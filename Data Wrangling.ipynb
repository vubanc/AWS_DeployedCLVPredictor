{
 "cells": [
  {
   "cell_type": "markdown",
   "id": "b417d287",
   "metadata": {
    "colab_type": "text",
    "id": "view-in-github"
   },
   "source": [
    "<a href=\"https://colab.research.google.com/github/vubanc/AWS_DeployedCLVPredictor/blob/main/AWS_DeployedCLVPredictor.ipynb\" target=\"_parent\"><img src=\"https://colab.research.google.com/assets/colab-badge.svg\" alt=\"Open In Colab\"/></a>"
   ]
  },
  {
   "cell_type": "markdown",
   "id": "fdae00ba-4c1c-4bfb-b0b7-4ceab28a0bdf",
   "metadata": {},
   "source": [
    "# Data Wrangling"
   ]
  },
  {
   "cell_type": "markdown",
   "id": "a06634a0-6264-47ae-ab9c-e2fc1f30b40a",
   "metadata": {},
   "source": [
    "This notebook covers the data exploration, cleaning, preprocessing and feature engineering steps of the project. The prepared dataset is uploaded to an S3 bucket for SQL querying and model training."
   ]
  },
  {
   "cell_type": "markdown",
   "id": "3802bef3-d69a-4ea1-959e-5700c9d73943",
   "metadata": {
    "id": "3802bef3-d69a-4ea1-959e-5700c9d73943",
    "tags": []
   },
   "source": [
    "## Importing Libraries"
   ]
  },
  {
   "cell_type": "code",
   "execution_count": 1,
   "id": "a4ae1638-606f-40d3-94cd-073a4b1f3f56",
   "metadata": {
    "tags": []
   },
   "outputs": [],
   "source": [
    "import warnings\n",
    "warnings.filterwarnings(\"ignore\")"
   ]
  },
  {
   "cell_type": "code",
   "execution_count": 2,
   "id": "39a4e456-a26e-4919-a088-75f91b44b4c8",
   "metadata": {
    "id": "39a4e456-a26e-4919-a088-75f91b44b4c8",
    "outputId": "56c8aad5-a09a-4544-81cf-52827367bb41",
    "tags": []
   },
   "outputs": [],
   "source": [
    "import pandas as pd\n",
    "import numpy as np\n",
    "import matplotlib.pyplot as plt\n",
    "import seaborn as sns\n",
    "import sklearn"
   ]
  },
  {
   "cell_type": "code",
   "execution_count": 3,
   "id": "0042fedb-c3f9-4e6d-8ceb-01e92fefaf39",
   "metadata": {
    "id": "0042fedb-c3f9-4e6d-8ceb-01e92fefaf39",
    "outputId": "070ec319-4fe0-4df5-ccce-c5325c096306",
    "tags": []
   },
   "outputs": [
    {
     "data": {
      "text/plain": [
       "'/home/ec2-user/SageMaker/AWS_DeployedCLVPredictor'"
      ]
     },
     "execution_count": 3,
     "metadata": {},
     "output_type": "execute_result"
    }
   ],
   "source": [
    "%pwd"
   ]
  },
  {
   "cell_type": "code",
   "execution_count": 4,
   "id": "cdf7e219-643d-4769-a709-074ae199db9f",
   "metadata": {
    "id": "cdf7e219-643d-4769-a709-074ae199db9f",
    "tags": []
   },
   "outputs": [],
   "source": [
    "df = pd.read_excel(\"Raw Dataset/UK Online Retail.xlsx\")"
   ]
  },
  {
   "cell_type": "code",
   "execution_count": 5,
   "id": "0a9379a6-8fe0-42e1-98ca-976f3f947917",
   "metadata": {
    "id": "0a9379a6-8fe0-42e1-98ca-976f3f947917",
    "outputId": "cae1e59d-0d2b-440a-ddf3-302802cfa0e7",
    "tags": []
   },
   "outputs": [
    {
     "name": "stdout",
     "output_type": "stream",
     "text": [
      "Number of rows: 541909\n",
      "Number of columns: 8\n"
     ]
    },
    {
     "data": {
      "text/html": [
       "<div>\n",
       "<style scoped>\n",
       "    .dataframe tbody tr th:only-of-type {\n",
       "        vertical-align: middle;\n",
       "    }\n",
       "\n",
       "    .dataframe tbody tr th {\n",
       "        vertical-align: top;\n",
       "    }\n",
       "\n",
       "    .dataframe thead th {\n",
       "        text-align: right;\n",
       "    }\n",
       "</style>\n",
       "<table border=\"1\" class=\"dataframe\">\n",
       "  <thead>\n",
       "    <tr style=\"text-align: right;\">\n",
       "      <th></th>\n",
       "      <th>InvoiceNo</th>\n",
       "      <th>StockCode</th>\n",
       "      <th>Description</th>\n",
       "      <th>Quantity</th>\n",
       "      <th>InvoiceDate</th>\n",
       "      <th>UnitPrice</th>\n",
       "      <th>CustomerID</th>\n",
       "      <th>Country</th>\n",
       "    </tr>\n",
       "  </thead>\n",
       "  <tbody>\n",
       "    <tr>\n",
       "      <th>0</th>\n",
       "      <td>536365</td>\n",
       "      <td>85123A</td>\n",
       "      <td>WHITE HANGING HEART T-LIGHT HOLDER</td>\n",
       "      <td>6</td>\n",
       "      <td>2010-12-01 08:26:00</td>\n",
       "      <td>2.55</td>\n",
       "      <td>17850.0</td>\n",
       "      <td>United Kingdom</td>\n",
       "    </tr>\n",
       "    <tr>\n",
       "      <th>1</th>\n",
       "      <td>536365</td>\n",
       "      <td>71053</td>\n",
       "      <td>WHITE METAL LANTERN</td>\n",
       "      <td>6</td>\n",
       "      <td>2010-12-01 08:26:00</td>\n",
       "      <td>3.39</td>\n",
       "      <td>17850.0</td>\n",
       "      <td>United Kingdom</td>\n",
       "    </tr>\n",
       "  </tbody>\n",
       "</table>\n",
       "</div>"
      ],
      "text/plain": [
       "  InvoiceNo StockCode                         Description  Quantity  \\\n",
       "0    536365    85123A  WHITE HANGING HEART T-LIGHT HOLDER         6   \n",
       "1    536365     71053                 WHITE METAL LANTERN         6   \n",
       "\n",
       "          InvoiceDate  UnitPrice  CustomerID         Country  \n",
       "0 2010-12-01 08:26:00       2.55     17850.0  United Kingdom  \n",
       "1 2010-12-01 08:26:00       3.39     17850.0  United Kingdom  "
      ]
     },
     "execution_count": 5,
     "metadata": {},
     "output_type": "execute_result"
    }
   ],
   "source": [
    "print(f\"Number of rows: {df.shape[0]}\")\n",
    "print(f\"Number of columns: {df.shape[1]}\")\n",
    "df.head(2)"
   ]
  },
  {
   "cell_type": "markdown",
   "id": "0ff79586-1574-4a6c-a061-5ce152ab722d",
   "metadata": {
    "id": "0ff79586-1574-4a6c-a061-5ce152ab722d"
   },
   "source": [
    "## Exploratory Data Analysis"
   ]
  },
  {
   "cell_type": "markdown",
   "id": "c63d1320-97c5-4a54-bd12-3cc9a9f117f0",
   "metadata": {},
   "source": [
    "#### Checking data types"
   ]
  },
  {
   "cell_type": "code",
   "execution_count": 6,
   "id": "17a565b8-850b-4907-9c98-fdfd35cbf18c",
   "metadata": {
    "id": "17a565b8-850b-4907-9c98-fdfd35cbf18c",
    "outputId": "ea77d3db-0664-400b-e795-324d1a7044af",
    "tags": []
   },
   "outputs": [
    {
     "data": {
      "text/plain": [
       "InvoiceNo              object\n",
       "StockCode              object\n",
       "Description            object\n",
       "Quantity                int64\n",
       "InvoiceDate    datetime64[ns]\n",
       "UnitPrice             float64\n",
       "CustomerID            float64\n",
       "Country                object\n",
       "dtype: object"
      ]
     },
     "execution_count": 6,
     "metadata": {},
     "output_type": "execute_result"
    }
   ],
   "source": [
    "df.dtypes"
   ]
  },
  {
   "cell_type": "markdown",
   "id": "f5347f6c-8b6d-4f90-8dbb-a417401233ba",
   "metadata": {},
   "source": [
    "#### Checking null values"
   ]
  },
  {
   "cell_type": "code",
   "execution_count": 7,
   "id": "36f51b6f-77f9-4878-941e-f4127d9dad35",
   "metadata": {
    "id": "36f51b6f-77f9-4878-941e-f4127d9dad35",
    "outputId": "25c4c6b8-d8c9-4582-e1e5-158114aad338",
    "tags": []
   },
   "outputs": [
    {
     "data": {
      "text/plain": [
       "InvoiceNo           0\n",
       "StockCode           0\n",
       "Description      1454\n",
       "Quantity            0\n",
       "InvoiceDate         0\n",
       "UnitPrice           0\n",
       "CustomerID     135080\n",
       "Country             0\n",
       "dtype: int64"
      ]
     },
     "execution_count": 7,
     "metadata": {},
     "output_type": "execute_result"
    }
   ],
   "source": [
    "df.isnull().sum()"
   ]
  },
  {
   "cell_type": "markdown",
   "id": "3b16595e-f72b-4c07-8734-909aebf682f8",
   "metadata": {},
   "source": [
    "#### Descriptive statistics"
   ]
  },
  {
   "cell_type": "code",
   "execution_count": 8,
   "id": "60f97ea6-467b-4cb1-af01-03c65d99fd88",
   "metadata": {
    "id": "60f97ea6-467b-4cb1-af01-03c65d99fd88",
    "outputId": "e23e5514-0441-4af1-d90a-1eeab6a093b3",
    "tags": []
   },
   "outputs": [
    {
     "data": {
      "text/html": [
       "<div>\n",
       "<style scoped>\n",
       "    .dataframe tbody tr th:only-of-type {\n",
       "        vertical-align: middle;\n",
       "    }\n",
       "\n",
       "    .dataframe tbody tr th {\n",
       "        vertical-align: top;\n",
       "    }\n",
       "\n",
       "    .dataframe thead th {\n",
       "        text-align: right;\n",
       "    }\n",
       "</style>\n",
       "<table border=\"1\" class=\"dataframe\">\n",
       "  <thead>\n",
       "    <tr style=\"text-align: right;\">\n",
       "      <th></th>\n",
       "      <th>Quantity</th>\n",
       "      <th>UnitPrice</th>\n",
       "    </tr>\n",
       "  </thead>\n",
       "  <tbody>\n",
       "    <tr>\n",
       "      <th>count</th>\n",
       "      <td>541909.000000</td>\n",
       "      <td>541909.000000</td>\n",
       "    </tr>\n",
       "    <tr>\n",
       "      <th>mean</th>\n",
       "      <td>9.552250</td>\n",
       "      <td>4.611114</td>\n",
       "    </tr>\n",
       "    <tr>\n",
       "      <th>std</th>\n",
       "      <td>218.081158</td>\n",
       "      <td>96.759853</td>\n",
       "    </tr>\n",
       "    <tr>\n",
       "      <th>min</th>\n",
       "      <td>-80995.000000</td>\n",
       "      <td>-11062.060000</td>\n",
       "    </tr>\n",
       "    <tr>\n",
       "      <th>0.3%</th>\n",
       "      <td>-22.000000</td>\n",
       "      <td>0.000000</td>\n",
       "    </tr>\n",
       "    <tr>\n",
       "      <th>25%</th>\n",
       "      <td>1.000000</td>\n",
       "      <td>1.250000</td>\n",
       "    </tr>\n",
       "    <tr>\n",
       "      <th>50%</th>\n",
       "      <td>3.000000</td>\n",
       "      <td>2.080000</td>\n",
       "    </tr>\n",
       "    <tr>\n",
       "      <th>75%</th>\n",
       "      <td>10.000000</td>\n",
       "      <td>4.130000</td>\n",
       "    </tr>\n",
       "    <tr>\n",
       "      <th>99.7%</th>\n",
       "      <td>240.000000</td>\n",
       "      <td>39.950000</td>\n",
       "    </tr>\n",
       "    <tr>\n",
       "      <th>max</th>\n",
       "      <td>80995.000000</td>\n",
       "      <td>38970.000000</td>\n",
       "    </tr>\n",
       "  </tbody>\n",
       "</table>\n",
       "</div>"
      ],
      "text/plain": [
       "            Quantity      UnitPrice\n",
       "count  541909.000000  541909.000000\n",
       "mean        9.552250       4.611114\n",
       "std       218.081158      96.759853\n",
       "min    -80995.000000  -11062.060000\n",
       "0.3%      -22.000000       0.000000\n",
       "25%         1.000000       1.250000\n",
       "50%         3.000000       2.080000\n",
       "75%        10.000000       4.130000\n",
       "99.7%     240.000000      39.950000\n",
       "max     80995.000000   38970.000000"
      ]
     },
     "execution_count": 8,
     "metadata": {},
     "output_type": "execute_result"
    }
   ],
   "source": [
    "df[[\"Quantity\", \"UnitPrice\"]].describe(percentiles=[0.003, 0.25, 0.5, 0.75, 0.997])"
   ]
  },
  {
   "cell_type": "markdown",
   "id": "2976c251-45a1-44a0-af7b-e841363b72e1",
   "metadata": {},
   "source": [
    "#### Distribution"
   ]
  },
  {
   "cell_type": "code",
   "execution_count": 9,
   "id": "61e0f733-1359-49c9-ba37-fe52bfa9a772",
   "metadata": {
    "id": "61e0f733-1359-49c9-ba37-fe52bfa9a772",
    "outputId": "a5273dfe-6d9c-4acc-e01d-4eb3e7c4db78",
    "tags": []
   },
   "outputs": [
    {
     "data": {
      "image/png": "[encoded data removed]",
      "text/plain": [
       "<Figure size 1500x200 with 2 Axes>"
      ]
     },
     "metadata": {},
     "output_type": "display_data"
    }
   ],
   "source": [
    "fig, axs = plt.subplots(1, 2, figsize=(15, 2))\n",
    "\n",
    "sns.boxplot(x=df[\"UnitPrice\"].astype(float), ax=axs[0])\n",
    "sns.boxplot(x=df[\"Quantity\"].astype(float), ax=axs[1])\n",
    "\n",
    "axs[0].set_xlim(left=0, right=25) # right limit set to 99.7 percentile value\n",
    "axs[1].set_xlim(left=0, right=272) # right limit set to 99.7 percentile value\n",
    "\n",
    "plt.show()"
   ]
  },
  {
   "cell_type": "markdown",
   "id": "511da82e-6374-4a0e-8908-993ddcd70a8e",
   "metadata": {},
   "source": [
    "#### Number of purchases by month"
   ]
  },
  {
   "cell_type": "code",
   "execution_count": 10,
   "id": "501db7bd-b3c7-44c2-ae27-546b4046449e",
   "metadata": {
    "id": "501db7bd-b3c7-44c2-ae27-546b4046449e",
    "outputId": "53e7077b-c1a8-410c-852a-38cecaf1b479",
    "tags": []
   },
   "outputs": [
    {
     "data": {
      "image/png": "[encoded data removed]",
      "text/plain": [
       "<Figure size 1500x300 with 1 Axes>"
      ]
     },
     "metadata": {},
     "output_type": "display_data"
    }
   ],
   "source": [
    "df_price = df.groupby(df.InvoiceDate.dt.strftime(\"%Y-%m\"), as_index=True)[\"UnitPrice\"].sum()\n",
    "df_quantity = df.groupby(df.InvoiceDate.dt.strftime(\"%Y-%m\"), as_index=True)[\"InvoiceNo\"].count()\n",
    "\n",
    "\n",
    "plt.figure(figsize=(15,3))\n",
    "plt.title(\"Number of purchases and amount spent by month\")\n",
    "plt.plot(df_price, color='navy')\n",
    "plt.plot(df_quantity, color='red')\n",
    "plt.legend(['quantity', 'unit price'])\n",
    "\n",
    "plt.show()"
   ]
  },
  {
   "cell_type": "markdown",
   "id": "70f918b4-b7a9-4247-93a3-a56455dda256",
   "metadata": {},
   "source": [
    "#### Top 5 frequent purchasing countries"
   ]
  },
  {
   "cell_type": "code",
   "execution_count": 11,
   "id": "6146fd04-82b8-4527-97ce-3c627edb1320",
   "metadata": {
    "id": "6146fd04-82b8-4527-97ce-3c627edb1320",
    "outputId": "e277c342-8615-4fe4-f96c-da76136189e9",
    "tags": []
   },
   "outputs": [
    {
     "data": {
      "text/html": [
       "<div>\n",
       "<style scoped>\n",
       "    .dataframe tbody tr th:only-of-type {\n",
       "        vertical-align: middle;\n",
       "    }\n",
       "\n",
       "    .dataframe tbody tr th {\n",
       "        vertical-align: top;\n",
       "    }\n",
       "\n",
       "    .dataframe thead th {\n",
       "        text-align: right;\n",
       "    }\n",
       "</style>\n",
       "<table border=\"1\" class=\"dataframe\">\n",
       "  <thead>\n",
       "    <tr style=\"text-align: right;\">\n",
       "      <th></th>\n",
       "      <th>Country</th>\n",
       "      <th>InvoiceNo</th>\n",
       "    </tr>\n",
       "  </thead>\n",
       "  <tbody>\n",
       "    <tr>\n",
       "      <th>36</th>\n",
       "      <td>United Kingdom</td>\n",
       "      <td>495478</td>\n",
       "    </tr>\n",
       "    <tr>\n",
       "      <th>14</th>\n",
       "      <td>Germany</td>\n",
       "      <td>9495</td>\n",
       "    </tr>\n",
       "    <tr>\n",
       "      <th>13</th>\n",
       "      <td>France</td>\n",
       "      <td>8557</td>\n",
       "    </tr>\n",
       "    <tr>\n",
       "      <th>10</th>\n",
       "      <td>EIRE</td>\n",
       "      <td>8196</td>\n",
       "    </tr>\n",
       "    <tr>\n",
       "      <th>31</th>\n",
       "      <td>Spain</td>\n",
       "      <td>2533</td>\n",
       "    </tr>\n",
       "  </tbody>\n",
       "</table>\n",
       "</div>"
      ],
      "text/plain": [
       "           Country  InvoiceNo\n",
       "36  United Kingdom     495478\n",
       "14         Germany       9495\n",
       "13          France       8557\n",
       "10            EIRE       8196\n",
       "31           Spain       2533"
      ]
     },
     "execution_count": 11,
     "metadata": {},
     "output_type": "execute_result"
    }
   ],
   "source": [
    "df_quantity = df.groupby(\"Country\", as_index=False)[\"InvoiceNo\"].count()\n",
    "df_quantity.sort_values(by=\"InvoiceNo\", ascending=False, inplace=True)\n",
    "df_quantity.head()"
   ]
  },
  {
   "cell_type": "markdown",
   "id": "759bc7ac-54ef-4b73-8e98-e9758cbffb77",
   "metadata": {
    "id": "759bc7ac-54ef-4b73-8e98-e9758cbffb77"
   },
   "source": [
    "## Data Preprocessing and Feature Engineering"
   ]
  },
  {
   "cell_type": "markdown",
   "id": "0274e53f-bcc6-4c49-9615-829d21a8e960",
   "metadata": {},
   "source": [
    "#### Dropping observations with unknown customer IDs"
   ]
  },
  {
   "cell_type": "code",
   "execution_count": 12,
   "id": "43b1871e-067a-495e-9f06-48c5e48ee232",
   "metadata": {
    "id": "43b1871e-067a-495e-9f06-48c5e48ee232",
    "outputId": "90e20988-5f64-453c-93de-2ddf54a937c8",
    "tags": []
   },
   "outputs": [
    {
     "name": "stdout",
     "output_type": "stream",
     "text": [
      "Observations dropped: 135080\n",
      "Observations remaining: 406829\n"
     ]
    }
   ],
   "source": [
    "obs_before = df.shape[0]\n",
    "df.dropna(subset=[\"CustomerID\"], inplace=True)\n",
    "print(f\"Observations dropped: {obs_before-df.shape[0]}\")\n",
    "print(f\"Observations remaining: {df.shape[0]}\")"
   ]
  },
  {
   "cell_type": "markdown",
   "id": "c6db56ab-e85f-4769-86d9-17d102a8d98a",
   "metadata": {},
   "source": [
    "#### Removing observations with negative quantity"
   ]
  },
  {
   "cell_type": "code",
   "execution_count": 13,
   "id": "3f132dcc-863c-4d03-b537-3340330de1bd",
   "metadata": {
    "tags": []
   },
   "outputs": [
    {
     "name": "stdout",
     "output_type": "stream",
     "text": [
      "Observations dropped: 8905\n",
      "Observations remaining: 397924\n"
     ]
    }
   ],
   "source": [
    "obs_before = df.shape[0]\n",
    "df = df[df.Quantity > 0]\n",
    "print(f\"Observations dropped: {obs_before-df.shape[0]}\")\n",
    "print(f\"Observations remaining: {df.shape[0]}\")"
   ]
  },
  {
   "cell_type": "markdown",
   "id": "257c6242-28c8-4c9d-ac81-2f11f5d233bf",
   "metadata": {},
   "source": [
    "#### Separating training and prediction periods"
   ]
  },
  {
   "cell_type": "code",
   "execution_count": 14,
   "id": "c7d69c7a-da39-40a2-9ada-054ee5d805ba",
   "metadata": {
    "id": "c7d69c7a-da39-40a2-9ada-054ee5d805ba",
    "tags": []
   },
   "outputs": [
    {
     "name": "stdout",
     "output_type": "stream",
     "text": [
      "Total Customers: 2724\n"
     ]
    }
   ],
   "source": [
    "df[\"InvoiceDate\"] = pd.to_datetime(df[\"InvoiceDate\"].dt.strftime(\"%Y-%m-%d\"))\n",
    "\n",
    "df = df[df.InvoiceDate.dt.year == 2011]\n",
    "df1 = df[df.InvoiceDate.dt.month <= 6]\n",
    "df2 = df[df.InvoiceDate.dt.month > 6]\n",
    "df2 = df2[df2.CustomerID.isin(df1.CustomerID)]\n",
    "\n",
    "print(f\"Total Customers: {len(df1.CustomerID.unique())}\")"
   ]
  },
  {
   "cell_type": "markdown",
   "id": "3e70bb98-f479-48ad-a9e7-2c416305ad5f",
   "metadata": {},
   "source": [
    "#### Creating the clean transaction level datasets"
   ]
  },
  {
   "cell_type": "code",
   "execution_count": 15,
   "id": "5b081b08-5976-4444-adba-678a2fcf86bb",
   "metadata": {
    "tags": []
   },
   "outputs": [
    {
     "name": "stdout",
     "output_type": "stream",
     "text": [
      "(146488, 3)\n"
     ]
    },
    {
     "data": {
      "text/html": [
       "<div>\n",
       "<style scoped>\n",
       "    .dataframe tbody tr th:only-of-type {\n",
       "        vertical-align: middle;\n",
       "    }\n",
       "\n",
       "    .dataframe tbody tr th {\n",
       "        vertical-align: top;\n",
       "    }\n",
       "\n",
       "    .dataframe thead th {\n",
       "        text-align: right;\n",
       "    }\n",
       "</style>\n",
       "<table border=\"1\" class=\"dataframe\">\n",
       "  <thead>\n",
       "    <tr style=\"text-align: right;\">\n",
       "      <th></th>\n",
       "      <th>CustomerID</th>\n",
       "      <th>InvoiceDate</th>\n",
       "      <th>Revenue</th>\n",
       "    </tr>\n",
       "  </thead>\n",
       "  <tbody>\n",
       "    <tr>\n",
       "      <th>0</th>\n",
       "      <td>13313.0</td>\n",
       "      <td>2011-01-04</td>\n",
       "      <td>19.5</td>\n",
       "    </tr>\n",
       "    <tr>\n",
       "      <th>1</th>\n",
       "      <td>13313.0</td>\n",
       "      <td>2011-01-04</td>\n",
       "      <td>10.5</td>\n",
       "    </tr>\n",
       "    <tr>\n",
       "      <th>2</th>\n",
       "      <td>13313.0</td>\n",
       "      <td>2011-01-04</td>\n",
       "      <td>10.5</td>\n",
       "    </tr>\n",
       "    <tr>\n",
       "      <th>3</th>\n",
       "      <td>13313.0</td>\n",
       "      <td>2011-01-04</td>\n",
       "      <td>10.5</td>\n",
       "    </tr>\n",
       "    <tr>\n",
       "      <th>4</th>\n",
       "      <td>13313.0</td>\n",
       "      <td>2011-01-04</td>\n",
       "      <td>12.5</td>\n",
       "    </tr>\n",
       "  </tbody>\n",
       "</table>\n",
       "</div>"
      ],
      "text/plain": [
       "   CustomerID InvoiceDate  Revenue\n",
       "0     13313.0  2011-01-04     19.5\n",
       "1     13313.0  2011-01-04     10.5\n",
       "2     13313.0  2011-01-04     10.5\n",
       "3     13313.0  2011-01-04     10.5\n",
       "4     13313.0  2011-01-04     12.5"
      ]
     },
     "execution_count": 15,
     "metadata": {},
     "output_type": "execute_result"
    }
   ],
   "source": [
    "df1_transactions = df1\n",
    "df1_transactions[\"Revenue\"] = df1_transactions.Quantity * df1_transactions.UnitPrice\n",
    "df1_transactions = df1_transactions[[\"CustomerID\", \"InvoiceDate\", \"Revenue\"]]\n",
    "df1_transactions.reset_index(drop=True, inplace=True)\n",
    "print(df1_transactions.shape)\n",
    "df1_transactions.head()"
   ]
  },
  {
   "cell_type": "code",
   "execution_count": 16,
   "id": "46b6cefd-0dfb-4f6f-a4a4-632b958e99a4",
   "metadata": {
    "tags": []
   },
   "outputs": [],
   "source": [
    "df1_transactions.to_csv(\"df1_transactions.csv\", index=False)"
   ]
  },
  {
   "cell_type": "code",
   "execution_count": 17,
   "id": "fa99e346-db3a-4015-8c1e-a5d277d6016f",
   "metadata": {
    "tags": []
   },
   "outputs": [
    {
     "name": "stdout",
     "output_type": "stream",
     "text": [
      "(152605, 3)\n"
     ]
    },
    {
     "data": {
      "text/html": [
       "<div>\n",
       "<style scoped>\n",
       "    .dataframe tbody tr th:only-of-type {\n",
       "        vertical-align: middle;\n",
       "    }\n",
       "\n",
       "    .dataframe tbody tr th {\n",
       "        vertical-align: top;\n",
       "    }\n",
       "\n",
       "    .dataframe thead th {\n",
       "        text-align: right;\n",
       "    }\n",
       "</style>\n",
       "<table border=\"1\" class=\"dataframe\">\n",
       "  <thead>\n",
       "    <tr style=\"text-align: right;\">\n",
       "      <th></th>\n",
       "      <th>CustomerID</th>\n",
       "      <th>InvoiceDate</th>\n",
       "      <th>Revenue</th>\n",
       "    </tr>\n",
       "  </thead>\n",
       "  <tbody>\n",
       "    <tr>\n",
       "      <th>0</th>\n",
       "      <td>16317.0</td>\n",
       "      <td>2011-07-01</td>\n",
       "      <td>15.00</td>\n",
       "    </tr>\n",
       "    <tr>\n",
       "      <th>1</th>\n",
       "      <td>16317.0</td>\n",
       "      <td>2011-07-01</td>\n",
       "      <td>20.40</td>\n",
       "    </tr>\n",
       "    <tr>\n",
       "      <th>2</th>\n",
       "      <td>16317.0</td>\n",
       "      <td>2011-07-01</td>\n",
       "      <td>14.85</td>\n",
       "    </tr>\n",
       "    <tr>\n",
       "      <th>3</th>\n",
       "      <td>16317.0</td>\n",
       "      <td>2011-07-01</td>\n",
       "      <td>11.40</td>\n",
       "    </tr>\n",
       "    <tr>\n",
       "      <th>4</th>\n",
       "      <td>16317.0</td>\n",
       "      <td>2011-07-01</td>\n",
       "      <td>15.00</td>\n",
       "    </tr>\n",
       "  </tbody>\n",
       "</table>\n",
       "</div>"
      ],
      "text/plain": [
       "   CustomerID InvoiceDate  Revenue\n",
       "0     16317.0  2011-07-01    15.00\n",
       "1     16317.0  2011-07-01    20.40\n",
       "2     16317.0  2011-07-01    14.85\n",
       "3     16317.0  2011-07-01    11.40\n",
       "4     16317.0  2011-07-01    15.00"
      ]
     },
     "execution_count": 17,
     "metadata": {},
     "output_type": "execute_result"
    }
   ],
   "source": [
    "df2_transactions = df2\n",
    "df2_transactions[\"Revenue\"] = df2_transactions.Quantity * df2_transactions.UnitPrice\n",
    "df2_transactions = df2_transactions[[\"CustomerID\", \"InvoiceDate\", \"Revenue\"]]\n",
    "df2_transactions.reset_index(drop=True, inplace=True)\n",
    "print(df2_transactions.shape)\n",
    "df2_transactions.head()"
   ]
  },
  {
   "cell_type": "code",
   "execution_count": 19,
   "id": "27a90cdc-1d3e-46cf-b30e-c123696707fc",
   "metadata": {
    "tags": []
   },
   "outputs": [],
   "source": [
    "df2_transactions.to_csv(\"df2_transactions.csv\", index=False)"
   ]
  },
  {
   "cell_type": "markdown",
   "id": "6d3e1c05-0c53-41bb-965e-2b8732baf2e4",
   "metadata": {},
   "source": [
    "#### Creating input features"
   ]
  },
  {
   "cell_type": "code",
   "execution_count": 20,
   "id": "c7a85f75-e03f-40d8-910a-e5b53b8f8779",
   "metadata": {
    "tags": []
   },
   "outputs": [],
   "source": [
    "# Creating the recency feature\n",
    "df1_CustomerRecency = df1.groupby(\"CustomerID\", as_index=False)[\"InvoiceDate\"].max()\n",
    "df1_CustomerRecency[\"Recency\"] = (df1.InvoiceDate.max() - df1_CustomerRecency.InvoiceDate).dt.days\n",
    "df1_CustomerRecency.drop(\"InvoiceDate\", axis=1, inplace=True)\n",
    "df1 = pd.merge(df1, df1_CustomerRecency, how=\"inner\", on=\"CustomerID\")"
   ]
  },
  {
   "cell_type": "code",
   "execution_count": 21,
   "id": "d6e6b95b-d0e8-47ae-a540-defb67008972",
   "metadata": {
    "tags": []
   },
   "outputs": [],
   "source": [
    "# Creating the frequency feature\n",
    "df1_CustomerFreq = df1.groupby(\"CustomerID\", as_index=False)[\"InvoiceNo\"].count()\n",
    "df1_CustomerFreq.rename(columns={\"InvoiceNo\": \"Frequency\"}, inplace=True)\n",
    "df1 = pd.merge(df1, df1_CustomerFreq, how=\"inner\", on=\"CustomerID\")"
   ]
  },
  {
   "cell_type": "code",
   "execution_count": 22,
   "id": "699ab861-9f24-46ef-b6e2-f946af137fa3",
   "metadata": {
    "tags": []
   },
   "outputs": [],
   "source": [
    "# Creating the total monetary value feature\n",
    "df1[\"MonetaryValue\"] = df1.Quantity * df1.UnitPrice\n",
    "df1_MonetaryValue = df1.groupby(\"CustomerID\", as_index=False)[\"MonetaryValue\"].sum()\n",
    "df1.drop(labels=[\"MonetaryValue\"], axis=1, inplace=True)\n",
    "df1 = pd.merge(df1, df1_MonetaryValue, how=\"inner\", on=\"CustomerID\")\n",
    "\n",
    "df2[\"MonetaryValue\"] = df2.Quantity * df2.UnitPrice\n",
    "df2_MonetaryValue = df2.groupby(\"CustomerID\", as_index=False)[\"MonetaryValue\"].sum()\n",
    "df2.drop(labels=[\"MonetaryValue\"], axis=1, inplace=True)\n",
    "df2 = pd.merge(df2, df2_MonetaryValue, how=\"inner\", on=\"CustomerID\")"
   ]
  },
  {
   "cell_type": "code",
   "execution_count": 23,
   "id": "9af98a67-2be9-4d97-abbb-89733e8b2428",
   "metadata": {
    "tags": []
   },
   "outputs": [],
   "source": [
    "#Creating average daily spending feature\n",
    "df1_CustomerDays = df1.groupby(\"CustomerID\", as_index=False)[\"InvoiceDate\"].nunique()\n",
    "df1_CustomerDays.rename(columns={\"InvoiceDate\":\"TotalDays\"}, inplace=True)\n",
    "df1 = pd.merge(df1, df1_CustomerDays, how=\"inner\", on=\"CustomerID\")\n",
    "df1[\"DailySpending\"] = df1.MonetaryValue/df1.TotalDays"
   ]
  },
  {
   "cell_type": "code",
   "execution_count": 24,
   "id": "8a952ad4-c405-4530-8cad-59cff0a9a7fd",
   "metadata": {
    "tags": []
   },
   "outputs": [],
   "source": [
    "#Creating average daily transaction count feature\n",
    "df1_CustomerDays = df1.groupby(\"CustomerID\", as_index=False)[\"InvoiceDate\"].nunique()\n",
    "df1_DailyTransCount = df1.groupby(\"CustomerID\", as_index=False)[\"InvoiceNo\"].count()\n",
    "df1_DailyTransCount = pd.merge(df1_DailyTransCount, df1_CustomerDays, how=\"inner\", on=\"CustomerID\")\n",
    "df1_DailyTransCount[\"DailyTransCount\"] = np.round(df1_DailyTransCount.InvoiceNo/df1_DailyTransCount.InvoiceDate)\n",
    "df1_DailyTransCount.drop(labels=[\"InvoiceNo\", \"InvoiceDate\"], axis=1, inplace=True)\n",
    "df1 = pd.merge(df1, df1_DailyTransCount, how=\"inner\", on=\"CustomerID\")"
   ]
  },
  {
   "cell_type": "markdown",
   "id": "99fd06cb-e71c-4569-80f1-75803674679d",
   "metadata": {},
   "source": [
    "#### Creating the customer level dataset"
   ]
  },
  {
   "cell_type": "code",
   "execution_count": 25,
   "id": "db648030-891e-43db-8ae0-f9e365dcda12",
   "metadata": {
    "tags": []
   },
   "outputs": [
    {
     "data": {
      "text/html": [
       "<div>\n",
       "<style scoped>\n",
       "    .dataframe tbody tr th:only-of-type {\n",
       "        vertical-align: middle;\n",
       "    }\n",
       "\n",
       "    .dataframe tbody tr th {\n",
       "        vertical-align: top;\n",
       "    }\n",
       "\n",
       "    .dataframe thead th {\n",
       "        text-align: right;\n",
       "    }\n",
       "</style>\n",
       "<table border=\"1\" class=\"dataframe\">\n",
       "  <thead>\n",
       "    <tr style=\"text-align: right;\">\n",
       "      <th></th>\n",
       "      <th>CustomerID</th>\n",
       "      <th>Country</th>\n",
       "      <th>Recency</th>\n",
       "      <th>Frequency</th>\n",
       "      <th>DailySpending</th>\n",
       "      <th>DailyTransCount</th>\n",
       "      <th>MonetaryValue</th>\n",
       "    </tr>\n",
       "  </thead>\n",
       "  <tbody>\n",
       "    <tr>\n",
       "      <th>0</th>\n",
       "      <td>13313.0</td>\n",
       "      <td>United Kingdom</td>\n",
       "      <td>53</td>\n",
       "      <td>31</td>\n",
       "      <td>304.87</td>\n",
       "      <td>16.0</td>\n",
       "      <td>609.74</td>\n",
       "    </tr>\n",
       "    <tr>\n",
       "      <th>1</th>\n",
       "      <td>18097.0</td>\n",
       "      <td>United Kingdom</td>\n",
       "      <td>43</td>\n",
       "      <td>49</td>\n",
       "      <td>637.02</td>\n",
       "      <td>24.0</td>\n",
       "      <td>1274.04</td>\n",
       "    </tr>\n",
       "  </tbody>\n",
       "</table>\n",
       "</div>"
      ],
      "text/plain": [
       "   CustomerID         Country  Recency  Frequency  DailySpending  \\\n",
       "0     13313.0  United Kingdom       53         31         304.87   \n",
       "1     18097.0  United Kingdom       43         49         637.02   \n",
       "\n",
       "   DailyTransCount  MonetaryValue  \n",
       "0             16.0         609.74  \n",
       "1             24.0        1274.04  "
      ]
     },
     "execution_count": 25,
     "metadata": {},
     "output_type": "execute_result"
    }
   ],
   "source": [
    "df1 = df1[[\"CustomerID\", \"Country\", \"Recency\", \"Frequency\", \"DailySpending\", \"DailyTransCount\", \"MonetaryValue\"]]\n",
    "df1.drop_duplicates(subset=[\"CustomerID\"], inplace=True)\n",
    "df1.reset_index(drop=True, inplace=True)\n",
    "df1.head(2)"
   ]
  },
  {
   "cell_type": "code",
   "execution_count": 26,
   "id": "76d263ea-7814-4e7e-9489-c1d15c8acb86",
   "metadata": {
    "tags": []
   },
   "outputs": [
    {
     "data": {
      "text/html": [
       "<div>\n",
       "<style scoped>\n",
       "    .dataframe tbody tr th:only-of-type {\n",
       "        vertical-align: middle;\n",
       "    }\n",
       "\n",
       "    .dataframe tbody tr th {\n",
       "        vertical-align: top;\n",
       "    }\n",
       "\n",
       "    .dataframe thead th {\n",
       "        text-align: right;\n",
       "    }\n",
       "</style>\n",
       "<table border=\"1\" class=\"dataframe\">\n",
       "  <thead>\n",
       "    <tr style=\"text-align: right;\">\n",
       "      <th></th>\n",
       "      <th>CustomerID</th>\n",
       "      <th>MonetaryValue</th>\n",
       "    </tr>\n",
       "  </thead>\n",
       "  <tbody>\n",
       "    <tr>\n",
       "      <th>0</th>\n",
       "      <td>16317.0</td>\n",
       "      <td>770.89</td>\n",
       "    </tr>\n",
       "    <tr>\n",
       "      <th>1</th>\n",
       "      <td>13492.0</td>\n",
       "      <td>954.54</td>\n",
       "    </tr>\n",
       "  </tbody>\n",
       "</table>\n",
       "</div>"
      ],
      "text/plain": [
       "   CustomerID  MonetaryValue\n",
       "0     16317.0         770.89\n",
       "1     13492.0         954.54"
      ]
     },
     "execution_count": 26,
     "metadata": {},
     "output_type": "execute_result"
    }
   ],
   "source": [
    "df2 = df2[[\"CustomerID\", \"MonetaryValue\"]]\n",
    "df2.drop_duplicates(subset=[\"CustomerID\"], inplace=True)\n",
    "df2.reset_index(drop=True, inplace=True)\n",
    "df2.head(2)"
   ]
  },
  {
   "cell_type": "code",
   "execution_count": 27,
   "id": "60b2c7b1-7cf4-4668-9208-9e74cec9d2b5",
   "metadata": {
    "tags": []
   },
   "outputs": [
    {
     "data": {
      "text/html": [
       "<div>\n",
       "<style scoped>\n",
       "    .dataframe tbody tr th:only-of-type {\n",
       "        vertical-align: middle;\n",
       "    }\n",
       "\n",
       "    .dataframe tbody tr th {\n",
       "        vertical-align: top;\n",
       "    }\n",
       "\n",
       "    .dataframe thead th {\n",
       "        text-align: right;\n",
       "    }\n",
       "</style>\n",
       "<table border=\"1\" class=\"dataframe\">\n",
       "  <thead>\n",
       "    <tr style=\"text-align: right;\">\n",
       "      <th></th>\n",
       "      <th>CustomerID</th>\n",
       "      <th>Recency</th>\n",
       "      <th>Frequency</th>\n",
       "      <th>DailySpending</th>\n",
       "      <th>DailyTransCount</th>\n",
       "      <th>MonetaryValue_x</th>\n",
       "      <th>MonetaryValue_y</th>\n",
       "    </tr>\n",
       "  </thead>\n",
       "  <tbody>\n",
       "    <tr>\n",
       "      <th>0</th>\n",
       "      <td>13313.0</td>\n",
       "      <td>53</td>\n",
       "      <td>31</td>\n",
       "      <td>304.87</td>\n",
       "      <td>16.0</td>\n",
       "      <td>609.74</td>\n",
       "      <td>945.58</td>\n",
       "    </tr>\n",
       "    <tr>\n",
       "      <th>1</th>\n",
       "      <td>18097.0</td>\n",
       "      <td>43</td>\n",
       "      <td>49</td>\n",
       "      <td>637.02</td>\n",
       "      <td>24.0</td>\n",
       "      <td>1274.04</td>\n",
       "      <td>1241.24</td>\n",
       "    </tr>\n",
       "  </tbody>\n",
       "</table>\n",
       "</div>"
      ],
      "text/plain": [
       "   CustomerID  Recency  Frequency  DailySpending  DailyTransCount  \\\n",
       "0     13313.0       53         31         304.87             16.0   \n",
       "1     18097.0       43         49         637.02             24.0   \n",
       "\n",
       "   MonetaryValue_x  MonetaryValue_y  \n",
       "0           609.74           945.58  \n",
       "1          1274.04          1241.24  "
      ]
     },
     "execution_count": 27,
     "metadata": {},
     "output_type": "execute_result"
    }
   ],
   "source": [
    "df_customers = pd.merge(df1, df2, how=\"inner\", on=\"CustomerID\")\n",
    "\n",
    "df_customers = df_customers[[\"CustomerID\", \"Recency\", \"Frequency\", \"DailySpending\", \"DailyTransCount\", \"MonetaryValue_x\", \"MonetaryValue_y\"]]\n",
    "df_customers.head(2)"
   ]
  },
  {
   "cell_type": "markdown",
   "id": "1c571427-2b04-4a2c-a4b7-338f5739b8f7",
   "metadata": {},
   "source": [
    "#### Treating Outliers with KNN imputer"
   ]
  },
  {
   "cell_type": "code",
   "execution_count": 28,
   "id": "bb266066-c804-4de1-b016-fa6a19218aa1",
   "metadata": {
    "tags": []
   },
   "outputs": [
    {
     "name": "stdout",
     "output_type": "stream",
     "text": [
      "Number of outliers in Recency: 92\n",
      "Number of outliers in Frequency: 165\n",
      "Number of outliers in Average Daily Spending: 154\n",
      "Number of outliers in Daily Transaction Count: 153\n",
      "Number of outliers in monetary value (training period): 144\n",
      "Number of outliers in monetary value (prediction period): 248\n"
     ]
    },
    {
     "data": {
      "image/png": "[encoded data removed]",
      "text/plain": [
       "<Figure size 1500x500 with 6 Axes>"
      ]
     },
     "metadata": {},
     "output_type": "display_data"
    }
   ],
   "source": [
    "fig, axs = plt.subplots(3, 2, figsize=(15, 5))\n",
    "\n",
    "sns.boxplot(x=df_customers[\"Recency\"], ax=axs[0,0])\n",
    "sns.boxplot(x=df_customers[\"Frequency\"], ax=axs[0,1])\n",
    "sns.boxplot(x=df_customers[\"DailySpending\"], ax=axs[1,0])\n",
    "sns.boxplot(x=df_customers[\"DailyTransCount\"], ax=axs[1,1])\n",
    "sns.boxplot(x=df_customers[\"MonetaryValue_x\"], ax=axs[2,0])\n",
    "sns.boxplot(x=df_customers[\"MonetaryValue_y\"], ax=axs[2,1])\n",
    "\n",
    "q1, q3 = df_customers.Recency.quantile(q=0.25), df_customers.Recency.quantile(q=0.75)\n",
    "iqr = q3-q1\n",
    "recency_outliers = df_customers[(df_customers.Recency < df_customers.Recency.mean()-1.5*iqr)|(df_customers.Recency > df_customers.Recency.mean()+1.5*iqr)]\n",
    "\n",
    "q1, q3 = df_customers.Frequency.quantile(q=0.25), df_customers.Frequency.quantile(q=0.75)\n",
    "iqr = q3-q1\n",
    "frequency_outliers = df_customers[(df_customers.Frequency < df_customers.Frequency.mean()-1.5*iqr)|(df_customers.Frequency > df_customers.Frequency.mean()+1.5*iqr)]\n",
    "\n",
    "q1, q3 = df_customers.DailySpending.quantile(q=0.25), df_customers.DailySpending.quantile(q=0.75)\n",
    "iqr = q3-q1\n",
    "DailySpending_outliers = df_customers[(df_customers.DailySpending < df_customers.DailySpending.mean()-1.5*iqr)|(df_customers.DailySpending > df_customers.DailySpending.mean()+1.5*iqr)]\n",
    "\n",
    "q1, q3 = df_customers.DailyTransCount.quantile(q=0.25), df_customers.DailyTransCount.quantile(q=0.75)\n",
    "iqr = q3-q1\n",
    "DailyTransCount_outliers = df_customers[(df_customers.DailyTransCount < df_customers.DailyTransCount.mean()-1.5*iqr)|(df_customers.DailyTransCount > df_customers.DailyTransCount.mean()+1.5*iqr)]\n",
    "\n",
    "q1, q3 = df_customers.MonetaryValue_x.quantile(q=0.25), df_customers.MonetaryValue_x.quantile(q=0.75)\n",
    "iqr = q3-q1\n",
    "monetaryvalx_outliers = df_customers[(df_customers.MonetaryValue_x < df_customers.MonetaryValue_x.mean()-1.5*iqr)|(df_customers.MonetaryValue_x > df_customers.MonetaryValue_x.mean()+1.5*iqr)]\n",
    "\n",
    "q1, q3 = df_customers.MonetaryValue_y.quantile(q=0.25), df_customers.MonetaryValue_y.quantile(q=0.75)\n",
    "iqr = q3-q1\n",
    "monetaryvaly_outliers = df_customers[(df_customers.MonetaryValue_y < df_customers.MonetaryValue_y.mean()-1.5*iqr)|(df_customers.MonetaryValue_y > df_customers.MonetaryValue_y.mean()+1.5*iqr)]\n",
    "\n",
    "print(f\"Number of outliers in Recency: {recency_outliers.shape[0]}\")\n",
    "print(f\"Number of outliers in Frequency: {frequency_outliers.shape[0]}\")\n",
    "print(f\"Number of outliers in Average Daily Spending: {DailySpending_outliers.shape[0]}\")\n",
    "print(f\"Number of outliers in Daily Transaction Count: {DailyTransCount_outliers.shape[0]}\")\n",
    "print(f\"Number of outliers in monetary value (training period): {monetaryvalx_outliers.shape[0]}\")\n",
    "print(f\"Number of outliers in monetary value (prediction period): {monetaryvaly_outliers.shape[0]}\")\n",
    "\n",
    "plt.tight_layout()"
   ]
  },
  {
   "cell_type": "code",
   "execution_count": 29,
   "id": "dfac6388-de22-4af3-b65b-6fb514debc2e",
   "metadata": {
    "tags": []
   },
   "outputs": [],
   "source": [
    "from sklearn.impute import KNNImputer\n",
    "\n",
    "df_imputed = df_customers\n",
    "\n",
    "#df_imputed.loc[df_imputed.Recency.isin(recency_outliers.Recency), \"Recency\"] = np.nan\n",
    "#df_imputed.loc[df_imputed.Frequency.isin(frequency_outliers.Frequency), \"Frequency\"] = np.nan\n",
    "#df_imputed.loc[df_imputed.DailySpending.isin(DailySpending_outliers.DailySpending), \"DailySpending\"] = np.nan\n",
    "#df_imputed.loc[df_imputed.DailyTransCount.isin(DailyTransCount_outliers.DailyTransCount), \"DailyTransCount\"] = np.nan\n",
    "df_imputed.loc[df_imputed.MonetaryValue_x.isin(monetaryvalx_outliers.MonetaryValue_x), \"MonetaryValue_x\"] = np.nan\n",
    "df_imputed.loc[df_imputed.MonetaryValue_y.isin(monetaryvaly_outliers.MonetaryValue_y), \"MonetaryValue_y\"] = np.nan\n",
    "\n",
    "knn_imputer = KNNImputer(n_neighbors = 5)\n",
    "df_customers = pd.DataFrame(knn_imputer.fit_transform(df_imputed))\n",
    "df_customers.columns = [\"CustomerID\", \"Recency\", \"Frequency\", \"DailySpending\", \"DailyTransCount\", \"MonetaryValue_x\", \"MonetaryValue_y\"]"
   ]
  },
  {
   "cell_type": "markdown",
   "id": "5472ecd3-2165-4115-8e03-b878408fed40",
   "metadata": {},
   "source": [
    "#### Adding the country column"
   ]
  },
  {
   "cell_type": "code",
   "execution_count": 30,
   "id": "ec4d6c34-ccc8-4469-abbd-fb1ef10dd1a7",
   "metadata": {
    "tags": []
   },
   "outputs": [
    {
     "data": {
      "text/html": [
       "<div>\n",
       "<style scoped>\n",
       "    .dataframe tbody tr th:only-of-type {\n",
       "        vertical-align: middle;\n",
       "    }\n",
       "\n",
       "    .dataframe tbody tr th {\n",
       "        vertical-align: top;\n",
       "    }\n",
       "\n",
       "    .dataframe thead th {\n",
       "        text-align: right;\n",
       "    }\n",
       "</style>\n",
       "<table border=\"1\" class=\"dataframe\">\n",
       "  <thead>\n",
       "    <tr style=\"text-align: right;\">\n",
       "      <th></th>\n",
       "      <th>CustomerID</th>\n",
       "      <th>Country</th>\n",
       "      <th>Recency</th>\n",
       "      <th>Frequency</th>\n",
       "      <th>DailySpending</th>\n",
       "      <th>DailyTransCount</th>\n",
       "      <th>MonetaryValue_x</th>\n",
       "      <th>MonetaryValue_y</th>\n",
       "    </tr>\n",
       "  </thead>\n",
       "  <tbody>\n",
       "    <tr>\n",
       "      <th>0</th>\n",
       "      <td>13313</td>\n",
       "      <td>United Kingdom</td>\n",
       "      <td>53.0</td>\n",
       "      <td>31.0</td>\n",
       "      <td>304.87</td>\n",
       "      <td>16.0</td>\n",
       "      <td>609.74</td>\n",
       "      <td>945.58</td>\n",
       "    </tr>\n",
       "    <tr>\n",
       "      <th>1</th>\n",
       "      <td>18097</td>\n",
       "      <td>United Kingdom</td>\n",
       "      <td>43.0</td>\n",
       "      <td>49.0</td>\n",
       "      <td>637.02</td>\n",
       "      <td>24.0</td>\n",
       "      <td>1274.04</td>\n",
       "      <td>1241.24</td>\n",
       "    </tr>\n",
       "  </tbody>\n",
       "</table>\n",
       "</div>"
      ],
      "text/plain": [
       "   CustomerID         Country  Recency  Frequency  DailySpending  \\\n",
       "0       13313  United Kingdom     53.0       31.0         304.87   \n",
       "1       18097  United Kingdom     43.0       49.0         637.02   \n",
       "\n",
       "   DailyTransCount  MonetaryValue_x  MonetaryValue_y  \n",
       "0             16.0           609.74           945.58  \n",
       "1             24.0          1274.04          1241.24  "
      ]
     },
     "execution_count": 30,
     "metadata": {},
     "output_type": "execute_result"
    }
   ],
   "source": [
    "df_customers = pd.merge(df_customers, df, how=\"left\", on=\"CustomerID\")\n",
    "df_customers = df_customers[[\"CustomerID\", \"Country\", \"Recency\", \"Frequency\", \"DailySpending\", \"DailyTransCount\", \"MonetaryValue_x\", \"MonetaryValue_y\"]]\n",
    "df_customers = df_customers.drop_duplicates(subset=[\"CustomerID\"])\n",
    "df_customers[\"CustomerID\"] = df_customers.CustomerID.astype(int)\n",
    "df_customers.reset_index(inplace=True, drop=True)\n",
    "df_customers.head(2)"
   ]
  },
  {
   "cell_type": "code",
   "execution_count": 31,
   "id": "f30a07b2-c272-4cd5-89de-f7da2c6e737b",
   "metadata": {
    "tags": []
   },
   "outputs": [
    {
     "data": {
      "text/plain": [
       "(1871, 8)"
      ]
     },
     "execution_count": 31,
     "metadata": {},
     "output_type": "execute_result"
    }
   ],
   "source": [
    "df_customers.shape"
   ]
  },
  {
   "cell_type": "code",
   "execution_count": 32,
   "id": "81bea4aa-d87f-4321-bff6-c5883860d152",
   "metadata": {
    "tags": []
   },
   "outputs": [],
   "source": [
    "df_customers.to_csv(\"df_customers.csv\", index=False)"
   ]
  },
  {
   "cell_type": "markdown",
   "id": "80bb0398-0693-4f08-8d57-2961a916f065",
   "metadata": {},
   "source": [
    "## Initiating Sagemaker Session and Uploading Datasets"
   ]
  },
  {
   "cell_type": "code",
   "execution_count": 33,
   "id": "064531c1-4769-4935-b006-9a1605ecbf39",
   "metadata": {
    "tags": []
   },
   "outputs": [],
   "source": [
    "import sagemaker\n",
    "import boto3\n",
    "import botocore\n",
    "\n",
    "config = botocore.config.Config()\n",
    "sm = boto3.client(service_name=\"sagemaker\", config=config)\n",
    "sess = sagemaker.Session(sagemaker_client=sm)\n",
    "\n",
    "bucket = sess.default_bucket()\n",
    "role = sagemaker.get_execution_role()\n",
    "region = sess.boto_region_name"
   ]
  },
  {
   "cell_type": "markdown",
   "id": "d2e36bdb-0c17-42d0-a593-992db5de81da",
   "metadata": {},
   "source": [
    "#### Uploading the clean transaction level datasets to an S3 bucket"
   ]
  },
  {
   "cell_type": "code",
   "execution_count": 34,
   "id": "06201cf6-039a-4010-bc77-47995211b30b",
   "metadata": {
    "tags": []
   },
   "outputs": [
    {
     "data": {
      "text/plain": [
       "'s3://sagemaker-us-east-2-397738742408/data/transactions/transactions1/df1_transactions.csv'"
      ]
     },
     "execution_count": 34,
     "metadata": {},
     "output_type": "execute_result"
    }
   ],
   "source": [
    "s3_uri = sess.upload_data(bucket=bucket, key_prefix=\"data/transactions/transactions1\", path = \"df1_transactions.csv\")\n",
    "s3_uri"
   ]
  },
  {
   "cell_type": "code",
   "execution_count": 37,
   "id": "f35cc4a0-1f11-4e5b-a017-95f7b41149cb",
   "metadata": {},
   "outputs": [
    {
     "data": {
      "text/plain": [
       "'s3://sagemaker-us-east-2-397738742408/data/transactions/transactions2/df2_transactions.csv'"
      ]
     },
     "execution_count": 37,
     "metadata": {},
     "output_type": "execute_result"
    }
   ],
   "source": [
    "s3_uri = sess.upload_data(bucket=bucket, key_prefix=\"data/transactions/transactions2\", path = \"df2_transactions.csv\")\n",
    "s3_uri"
   ]
  },
  {
   "cell_type": "markdown",
   "id": "5838efb4-3bfa-4200-b95a-3592ed03da4e",
   "metadata": {},
   "source": [
    "#### Uploading the clean customer level dataset to an S3 bucket"
   ]
  },
  {
   "cell_type": "code",
   "execution_count": 39,
   "id": "aea3469b-ddde-4ee6-80a4-acde942f74a0",
   "metadata": {
    "tags": []
   },
   "outputs": [
    {
     "data": {
      "text/plain": [
       "'s3://sagemaker-us-east-2-397738742408/data/customers/df_customers.csv'"
      ]
     },
     "execution_count": 39,
     "metadata": {},
     "output_type": "execute_result"
    }
   ],
   "source": [
    "s3_uri = sess.upload_data(bucket=bucket, key_prefix=\"data/customers\", path = \"df_customers.csv\")\n",
    "s3_uri"
   ]
  },
  {
   "cell_type": "code",
   "execution_count": 41,
   "id": "a1ac6f65-8228-4321-a9e8-110f83900efe",
   "metadata": {
    "tags": []
   },
   "outputs": [
    {
     "data": {
      "text/html": [
       "<b>Review <a target=\"top\" href=\"https://s3.console.aws.amazon.com/s3/home?region=us-east-2#\">Amazon S3 buckets</a></b>"
      ],
      "text/plain": [
       "<IPython.core.display.HTML object>"
      ]
     },
     "metadata": {},
     "output_type": "display_data"
    }
   ],
   "source": [
    "from IPython.core.display import display, HTML\n",
    "\n",
    "display(HTML('<b>Review <a target=\"top\" href=\"https://s3.console.aws.amazon.com/s3/home?region={}#\">Amazon S3 buckets</a></b>'.format(region)))"
   ]
  }
 ],
 "metadata": {
  "colab": {
   "include_colab_link": true,
   "provenance": []
  },
  "kernelspec": {
   "display_name": "conda_python3",
   "language": "python",
   "name": "conda_python3"
  },
  "language_info": {
   "codemirror_mode": {
    "name": "ipython",
    "version": 3
   },
   "file_extension": ".py",
   "mimetype": "text/x-python",
   "name": "python",
   "nbconvert_exporter": "python",
   "pygments_lexer": "ipython3",
   "version": "3.10.12"
  }
 },
 "nbformat": 4,
 "nbformat_minor": 5
}
