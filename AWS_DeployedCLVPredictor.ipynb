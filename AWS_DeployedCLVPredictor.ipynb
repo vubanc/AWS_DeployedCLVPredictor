{
 "cells": [
  {
   "cell_type": "markdown",
   "id": "b417d287",
   "metadata": {
    "colab_type": "text",
    "id": "view-in-github"
   },
   "source": [
    "<a href=\"https://colab.research.google.com/github/vubanc/AWS_DeployedCLVPredictor/blob/main/AWS_DeployedCLVPredictor.ipynb\" target=\"_parent\"><img src=\"https://colab.research.google.com/assets/colab-badge.svg\" alt=\"Open In Colab\"/></a>"
   ]
  },
  {
   "cell_type": "markdown",
   "id": "fdae00ba-4c1c-4bfb-b0b7-4ceab28a0bdf",
   "metadata": {},
   "source": [
    "# Customer Lifetime Value Prediction"
   ]
  },
  {
   "cell_type": "markdown",
   "id": "5f89686e-ad0a-4021-a86b-16ac3d50ce55",
   "metadata": {},
   "source": [
    "## Importing Libraries and Initiating Sagemaker Session"
   ]
  },
  {
   "cell_type": "code",
   "execution_count": 1,
   "id": "9e55b4bf-e76c-48b1-82d4-627c30f5e334",
   "metadata": {
    "tags": []
   },
   "outputs": [],
   "source": [
    "import warnings\n",
    "warnings.filterwarnings(\"ignore\")"
   ]
  },
  {
   "cell_type": "code",
   "execution_count": 149,
   "id": "c0baabe8-6a5c-4452-b61a-1f5828de12fe",
   "metadata": {
    "tags": []
   },
   "outputs": [],
   "source": [
    "!pip install --disable-pip-version-check -q sagemaker==2.35.0\n",
    "!pip install -v protobuf==3.20.1\n",
    "!pip install awswrangler\n",
    "!pip install xgboost"
   ]
  },
  {
   "cell_type": "code",
   "execution_count": 110,
   "id": "98ab542a-b697-449c-9657-523140ea186a",
   "metadata": {
    "tags": []
   },
   "outputs": [],
   "source": [
    "import awswrangler as wr\n",
    "import pandas as pd\n",
    "import numpy as np\n",
    "from scipy.stats import randint, uniform, norm\n",
    "\n",
    "from sklearn.model_selection import train_test_split\n",
    "import xgboost as xgb\n",
    "from sklearn.metrics import f1_score, r2_score, confusion_matrix, ConfusionMatrixDisplay\n",
    "from sklearn.model_selection import cross_val_score\n",
    "from sklearn.model_selection import RandomizedSearchCV\n",
    "\n",
    "import matplotlib.pyplot as plt"
   ]
  },
  {
   "cell_type": "code",
   "execution_count": 4,
   "id": "63c3df77-2182-45aa-ac1a-294a4a0529e3",
   "metadata": {
    "tags": []
   },
   "outputs": [],
   "source": [
    "import sagemaker\n",
    "import boto3\n",
    "import botocore\n",
    "\n",
    "config = botocore.config.Config()\n",
    "sm = boto3.client(service_name='sagemaker', config=config)\n",
    "sess = sagemaker.Session(sagemaker_client = sm)\n",
    "\n",
    "role = sagemaker.get_execution_role()\n",
    "bucket = sess.default_bucket()\n",
    "region = sess.boto_region_name"
   ]
  },
  {
   "cell_type": "code",
   "execution_count": 5,
   "id": "fd884789-60f0-45fb-9e00-8de947e9ddd9",
   "metadata": {
    "tags": []
   },
   "outputs": [],
   "source": [
    "df_customers_uri = 's3://sagemaker-us-east-2-009906457426/data/customers/'\n",
    "df_transactions_uri = 's3://sagemaker-us-east-2-009906457426/data/transactions/'\n",
    "output_location = \"s3://{}/data/output\".format(bucket)"
   ]
  },
  {
   "cell_type": "code",
   "execution_count": 34,
   "id": "58374176-4c0b-439f-bb34-6bba0a0f8bbd",
   "metadata": {
    "tags": []
   },
   "outputs": [
    {
     "name": "stdout",
     "output_type": "stream",
     "text": [
      "2023-08-25 22:54:56     221733 customers.csv\n"
     ]
    }
   ],
   "source": [
    "!aws s3 ls 's3://sagemaker-us-east-2-009906457426/data/customers/'"
   ]
  },
  {
   "cell_type": "code",
   "execution_count": 7,
   "id": "55fbd2f5-4802-4af7-89b0-dcb270b3dbf9",
   "metadata": {
    "tags": []
   },
   "outputs": [
    {
     "data": {
      "text/html": [
       "<b>Review <a target=\"top\" href=\"https://s3.console.aws.amazon.com/s3/home?region=us-east-2#\">Amazon S3 buckets</a></b>"
      ],
      "text/plain": [
       "<IPython.core.display.HTML object>"
      ]
     },
     "metadata": {},
     "output_type": "display_data"
    }
   ],
   "source": [
    "from IPython.core.display import display, HTML\n",
    "\n",
    "display(HTML('<b>Review <a target=\"top\" href=\"https://s3.console.aws.amazon.com/s3/home?region={}#\">Amazon S3 buckets</a></b>'.format(region)))"
   ]
  },
  {
   "cell_type": "markdown",
   "id": "6c7add5f-2eb6-4ef2-a5d2-878f626db752",
   "metadata": {},
   "source": [
    "## Data Preparation"
   ]
  },
  {
   "cell_type": "code",
   "execution_count": 35,
   "id": "c5b5273f-d9ad-4a61-af51-7c016035b3c7",
   "metadata": {
    "tags": []
   },
   "outputs": [
    {
     "data": {
      "text/html": [
       "<div>\n",
       "<style scoped>\n",
       "    .dataframe tbody tr th:only-of-type {\n",
       "        vertical-align: middle;\n",
       "    }\n",
       "\n",
       "    .dataframe tbody tr th {\n",
       "        vertical-align: top;\n",
       "    }\n",
       "\n",
       "    .dataframe thead th {\n",
       "        text-align: right;\n",
       "    }\n",
       "</style>\n",
       "<table border=\"1\" class=\"dataframe\">\n",
       "  <thead>\n",
       "    <tr style=\"text-align: right;\">\n",
       "      <th></th>\n",
       "      <th>CustomerID</th>\n",
       "      <th>Country</th>\n",
       "      <th>Recency</th>\n",
       "      <th>Frequency</th>\n",
       "      <th>DailySpending</th>\n",
       "      <th>DailyTransCount</th>\n",
       "      <th>MonetaryValue_x</th>\n",
       "      <th>MonetaryValue_y</th>\n",
       "      <th>CLV</th>\n",
       "    </tr>\n",
       "  </thead>\n",
       "  <tbody>\n",
       "    <tr>\n",
       "      <th>0</th>\n",
       "      <td>13313</td>\n",
       "      <td>0</td>\n",
       "      <td>0.059303</td>\n",
       "      <td>-0.312211</td>\n",
       "      <td>-0.245454</td>\n",
       "      <td>-0.367966</td>\n",
       "      <td>-0.393130</td>\n",
       "      <td>945.58</td>\n",
       "      <td>0</td>\n",
       "    </tr>\n",
       "    <tr>\n",
       "      <th>1</th>\n",
       "      <td>18097</td>\n",
       "      <td>0</td>\n",
       "      <td>-0.169002</td>\n",
       "      <td>-0.156117</td>\n",
       "      <td>0.369319</td>\n",
       "      <td>0.041347</td>\n",
       "      <td>0.543608</td>\n",
       "      <td>1241.24</td>\n",
       "      <td>0</td>\n",
       "    </tr>\n",
       "  </tbody>\n",
       "</table>\n",
       "</div>"
      ],
      "text/plain": [
       "   CustomerID  Country   Recency  Frequency  DailySpending  DailyTransCount  \\\n",
       "0       13313        0  0.059303  -0.312211      -0.245454        -0.367966   \n",
       "1       18097        0 -0.169002  -0.156117       0.369319         0.041347   \n",
       "\n",
       "   MonetaryValue_x  MonetaryValue_y  CLV  \n",
       "0        -0.393130           945.58    0  \n",
       "1         0.543608          1241.24    0  "
      ]
     },
     "execution_count": 35,
     "metadata": {},
     "output_type": "execute_result"
    }
   ],
   "source": [
    "df_customers = wr.s3.read_csv(df_customers_uri)\n",
    "df_customers.head(2)"
   ]
  },
  {
   "cell_type": "code",
   "execution_count": 36,
   "id": "e926a7e7-fc83-4d49-ba0a-05ed575b32ed",
   "metadata": {
    "tags": []
   },
   "outputs": [
    {
     "data": {
      "text/html": [
       "<div>\n",
       "<style scoped>\n",
       "    .dataframe tbody tr th:only-of-type {\n",
       "        vertical-align: middle;\n",
       "    }\n",
       "\n",
       "    .dataframe tbody tr th {\n",
       "        vertical-align: top;\n",
       "    }\n",
       "\n",
       "    .dataframe thead th {\n",
       "        text-align: right;\n",
       "    }\n",
       "</style>\n",
       "<table border=\"1\" class=\"dataframe\">\n",
       "  <thead>\n",
       "    <tr style=\"text-align: right;\">\n",
       "      <th></th>\n",
       "      <th>Country</th>\n",
       "      <th>Recency</th>\n",
       "      <th>Frequency</th>\n",
       "      <th>DailySpending</th>\n",
       "      <th>DailyTransCount</th>\n",
       "      <th>MonetaryValue_x</th>\n",
       "      <th>MonetaryValue_y</th>\n",
       "      <th>CLV</th>\n",
       "    </tr>\n",
       "  </thead>\n",
       "  <tbody>\n",
       "    <tr>\n",
       "      <th>Country</th>\n",
       "      <td>1.000000</td>\n",
       "      <td>-0.024260</td>\n",
       "      <td>0.036808</td>\n",
       "      <td>0.225447</td>\n",
       "      <td>0.055746</td>\n",
       "      <td>0.157125</td>\n",
       "      <td>0.121992</td>\n",
       "      <td>0.107171</td>\n",
       "    </tr>\n",
       "    <tr>\n",
       "      <th>Recency</th>\n",
       "      <td>-0.024260</td>\n",
       "      <td>1.000000</td>\n",
       "      <td>-0.255992</td>\n",
       "      <td>-0.057845</td>\n",
       "      <td>-0.019528</td>\n",
       "      <td>-0.387972</td>\n",
       "      <td>-0.261098</td>\n",
       "      <td>-0.230016</td>\n",
       "    </tr>\n",
       "    <tr>\n",
       "      <th>Frequency</th>\n",
       "      <td>0.036808</td>\n",
       "      <td>-0.255992</td>\n",
       "      <td>1.000000</td>\n",
       "      <td>0.205653</td>\n",
       "      <td>0.392446</td>\n",
       "      <td>0.452922</td>\n",
       "      <td>0.326404</td>\n",
       "      <td>0.307273</td>\n",
       "    </tr>\n",
       "    <tr>\n",
       "      <th>DailySpending</th>\n",
       "      <td>0.225447</td>\n",
       "      <td>-0.057845</td>\n",
       "      <td>0.205653</td>\n",
       "      <td>1.000000</td>\n",
       "      <td>0.291026</td>\n",
       "      <td>0.417974</td>\n",
       "      <td>0.327666</td>\n",
       "      <td>0.313932</td>\n",
       "    </tr>\n",
       "    <tr>\n",
       "      <th>DailyTransCount</th>\n",
       "      <td>0.055746</td>\n",
       "      <td>-0.019528</td>\n",
       "      <td>0.392446</td>\n",
       "      <td>0.291026</td>\n",
       "      <td>1.000000</td>\n",
       "      <td>0.246816</td>\n",
       "      <td>0.195491</td>\n",
       "      <td>0.168961</td>\n",
       "    </tr>\n",
       "    <tr>\n",
       "      <th>MonetaryValue_x</th>\n",
       "      <td>0.157125</td>\n",
       "      <td>-0.387972</td>\n",
       "      <td>0.452922</td>\n",
       "      <td>0.417974</td>\n",
       "      <td>0.246816</td>\n",
       "      <td>1.000000</td>\n",
       "      <td>0.616622</td>\n",
       "      <td>0.542059</td>\n",
       "    </tr>\n",
       "    <tr>\n",
       "      <th>MonetaryValue_y</th>\n",
       "      <td>0.121992</td>\n",
       "      <td>-0.261098</td>\n",
       "      <td>0.326404</td>\n",
       "      <td>0.327666</td>\n",
       "      <td>0.195491</td>\n",
       "      <td>0.616622</td>\n",
       "      <td>1.000000</td>\n",
       "      <td>0.844517</td>\n",
       "    </tr>\n",
       "    <tr>\n",
       "      <th>CLV</th>\n",
       "      <td>0.107171</td>\n",
       "      <td>-0.230016</td>\n",
       "      <td>0.307273</td>\n",
       "      <td>0.313932</td>\n",
       "      <td>0.168961</td>\n",
       "      <td>0.542059</td>\n",
       "      <td>0.844517</td>\n",
       "      <td>1.000000</td>\n",
       "    </tr>\n",
       "  </tbody>\n",
       "</table>\n",
       "</div>"
      ],
      "text/plain": [
       "                  Country   Recency  Frequency  DailySpending  \\\n",
       "Country          1.000000 -0.024260   0.036808       0.225447   \n",
       "Recency         -0.024260  1.000000  -0.255992      -0.057845   \n",
       "Frequency        0.036808 -0.255992   1.000000       0.205653   \n",
       "DailySpending    0.225447 -0.057845   0.205653       1.000000   \n",
       "DailyTransCount  0.055746 -0.019528   0.392446       0.291026   \n",
       "MonetaryValue_x  0.157125 -0.387972   0.452922       0.417974   \n",
       "MonetaryValue_y  0.121992 -0.261098   0.326404       0.327666   \n",
       "CLV              0.107171 -0.230016   0.307273       0.313932   \n",
       "\n",
       "                 DailyTransCount  MonetaryValue_x  MonetaryValue_y       CLV  \n",
       "Country                 0.055746         0.157125         0.121992  0.107171  \n",
       "Recency                -0.019528        -0.387972        -0.261098 -0.230016  \n",
       "Frequency               0.392446         0.452922         0.326404  0.307273  \n",
       "DailySpending           0.291026         0.417974         0.327666  0.313932  \n",
       "DailyTransCount         1.000000         0.246816         0.195491  0.168961  \n",
       "MonetaryValue_x         0.246816         1.000000         0.616622  0.542059  \n",
       "MonetaryValue_y         0.195491         0.616622         1.000000  0.844517  \n",
       "CLV                     0.168961         0.542059         0.844517  1.000000  "
      ]
     },
     "execution_count": 36,
     "metadata": {},
     "output_type": "execute_result"
    }
   ],
   "source": [
    "df_customers.drop(labels=[\"CustomerID\"], axis=1).corr()"
   ]
  },
  {
   "cell_type": "code",
   "execution_count": 37,
   "id": "3768ff77-4721-458f-9c70-d60a0fc16c0a",
   "metadata": {
    "tags": []
   },
   "outputs": [],
   "source": [
    "x = df_customers[[\"Country\", \"Recency\", \"Frequency\", \"DailySpending\", \"DailyTransCount\", \"MonetaryValue_x\"]]\n",
    "y = df_customers[[\"CLV\"]]\n",
    "train_x, test_x, train_y, test_y = train_test_split(x, y, test_size=.25)\n",
    "\n",
    "train_x.reset_index(inplace=True, drop=True)\n",
    "train_y.reset_index(inplace=True, drop=True)\n",
    "test_x.reset_index(inplace=True, drop=True)\n",
    "test_y.reset_index(inplace=True, drop=True)\n",
    "\n",
    "df_train = pd.concat([train_y, train_x], axis=1)\n",
    "df_train.to_csv(\"train.csv\", index=False, header=False)\n",
    "\n",
    "df_test = pd.concat([test_y, test_x], axis=1)\n",
    "df_test.to_csv(\"test.csv\", index=False, header=False)"
   ]
  },
  {
   "cell_type": "code",
   "execution_count": 38,
   "id": "ee20d99f-2cbb-4239-b240-d3baf994572f",
   "metadata": {
    "tags": []
   },
   "outputs": [],
   "source": [
    "train_uri = sess.upload_data(bucket=bucket, key_prefix=\"data/train/train.csv\", path=\"train.csv\")\n",
    "test_uri = sess.upload_data(bucket=bucket, key_prefix=\"data/test/test.csv\", path=\"test.csv\")"
   ]
  },
  {
   "cell_type": "code",
   "execution_count": 39,
   "id": "ecb64d8c-c7a3-4c23-93e8-009c1dcfaf33",
   "metadata": {
    "tags": []
   },
   "outputs": [],
   "source": [
    "train_data = sagemaker.inputs.TrainingInput(s3_data='s3://{}/data/train'.format(bucket), content_type='text/csv')"
   ]
  },
  {
   "cell_type": "markdown",
   "id": "445189a0-74f1-4649-9f18-7869a7f90a86",
   "metadata": {},
   "source": [
    "## Econometric Model (BG/NBD & GG)"
   ]
  },
  {
   "cell_type": "code",
   "execution_count": 31,
   "id": "0064c85c-55bb-468c-9fdc-6620abff39d0",
   "metadata": {
    "tags": []
   },
   "outputs": [],
   "source": [
    "#!pip install lifetimes\n",
    "import lifetimes"
   ]
  },
  {
   "cell_type": "code",
   "execution_count": 32,
   "id": "a7487fc5-3b11-4b45-8d2d-aa46fac10151",
   "metadata": {
    "tags": []
   },
   "outputs": [
    {
     "data": {
      "text/html": [
       "<div>\n",
       "<style scoped>\n",
       "    .dataframe tbody tr th:only-of-type {\n",
       "        vertical-align: middle;\n",
       "    }\n",
       "\n",
       "    .dataframe tbody tr th {\n",
       "        vertical-align: top;\n",
       "    }\n",
       "\n",
       "    .dataframe thead th {\n",
       "        text-align: right;\n",
       "    }\n",
       "</style>\n",
       "<table border=\"1\" class=\"dataframe\">\n",
       "  <thead>\n",
       "    <tr style=\"text-align: right;\">\n",
       "      <th></th>\n",
       "      <th>CustomerID</th>\n",
       "      <th>InvoiceDate</th>\n",
       "      <th>Revenue</th>\n",
       "    </tr>\n",
       "  </thead>\n",
       "  <tbody>\n",
       "    <tr>\n",
       "      <th>0</th>\n",
       "      <td>13313.0</td>\n",
       "      <td>2011-01-04</td>\n",
       "      <td>19.5</td>\n",
       "    </tr>\n",
       "    <tr>\n",
       "      <th>1</th>\n",
       "      <td>13313.0</td>\n",
       "      <td>2011-01-04</td>\n",
       "      <td>10.5</td>\n",
       "    </tr>\n",
       "  </tbody>\n",
       "</table>\n",
       "</div>"
      ],
      "text/plain": [
       "   CustomerID InvoiceDate  Revenue\n",
       "0     13313.0  2011-01-04     19.5\n",
       "1     13313.0  2011-01-04     10.5"
      ]
     },
     "execution_count": 32,
     "metadata": {},
     "output_type": "execute_result"
    }
   ],
   "source": [
    "df1_transactions = wr.s3.read_csv(f\"s3://{bucket}/data/transactions/transactions1\")\n",
    "df1_transactions.head(2)"
   ]
  },
  {
   "cell_type": "code",
   "execution_count": 33,
   "id": "b4213e64-fbfd-4f2a-812c-ea9f31aec360",
   "metadata": {
    "tags": []
   },
   "outputs": [
    {
     "name": "stdout",
     "output_type": "stream",
     "text": [
      "(1384, 5)\n"
     ]
    },
    {
     "data": {
      "text/html": [
       "<div>\n",
       "<style scoped>\n",
       "    .dataframe tbody tr th:only-of-type {\n",
       "        vertical-align: middle;\n",
       "    }\n",
       "\n",
       "    .dataframe tbody tr th {\n",
       "        vertical-align: top;\n",
       "    }\n",
       "\n",
       "    .dataframe thead th {\n",
       "        text-align: right;\n",
       "    }\n",
       "</style>\n",
       "<table border=\"1\" class=\"dataframe\">\n",
       "  <thead>\n",
       "    <tr style=\"text-align: right;\">\n",
       "      <th></th>\n",
       "      <th>CustomerID</th>\n",
       "      <th>frequency</th>\n",
       "      <th>recency</th>\n",
       "      <th>T</th>\n",
       "      <th>monetary_value</th>\n",
       "    </tr>\n",
       "  </thead>\n",
       "  <tbody>\n",
       "    <tr>\n",
       "      <th>1</th>\n",
       "      <td>12347</td>\n",
       "      <td>2.0</td>\n",
       "      <td>134.0</td>\n",
       "      <td>155.0</td>\n",
       "      <td>509.385</td>\n",
       "    </tr>\n",
       "    <tr>\n",
       "      <th>2</th>\n",
       "      <td>12348</td>\n",
       "      <td>1.0</td>\n",
       "      <td>70.0</td>\n",
       "      <td>156.0</td>\n",
       "      <td>367.000</td>\n",
       "    </tr>\n",
       "  </tbody>\n",
       "</table>\n",
       "</div>"
      ],
      "text/plain": [
       "   CustomerID  frequency  recency      T  monetary_value\n",
       "1       12347        2.0    134.0  155.0         509.385\n",
       "2       12348        1.0     70.0  156.0         367.000"
      ]
     },
     "execution_count": 33,
     "metadata": {},
     "output_type": "execute_result"
    }
   ],
   "source": [
    "summary = lifetimes.utils.summary_data_from_transaction_data(df1_transactions, \"CustomerID\", \"InvoiceDate\", \"Revenue\")\n",
    "summary.reset_index(inplace=True)\n",
    "summary.CustomerID = summary.CustomerID.astype(int) \n",
    "summary = summary[(summary.monetary_value > 0)]\n",
    "\n",
    "print(summary.shape)\n",
    "summary.head(2)"
   ]
  },
  {
   "cell_type": "code",
   "execution_count": 34,
   "id": "3ba34c54-5195-4ec9-b93c-9f5021e6c051",
   "metadata": {
    "tags": []
   },
   "outputs": [
    {
     "data": {
      "text/html": [
       "<div>\n",
       "<style scoped>\n",
       "    .dataframe tbody tr th:only-of-type {\n",
       "        vertical-align: middle;\n",
       "    }\n",
       "\n",
       "    .dataframe tbody tr th {\n",
       "        vertical-align: top;\n",
       "    }\n",
       "\n",
       "    .dataframe thead th {\n",
       "        text-align: right;\n",
       "    }\n",
       "</style>\n",
       "<table border=\"1\" class=\"dataframe\">\n",
       "  <thead>\n",
       "    <tr style=\"text-align: right;\">\n",
       "      <th></th>\n",
       "      <th>CustomerID</th>\n",
       "      <th>frequency</th>\n",
       "      <th>recency</th>\n",
       "      <th>T</th>\n",
       "      <th>monetary_value</th>\n",
       "      <th>expected_num_purchases</th>\n",
       "    </tr>\n",
       "  </thead>\n",
       "  <tbody>\n",
       "    <tr>\n",
       "      <th>1</th>\n",
       "      <td>12347</td>\n",
       "      <td>2.0</td>\n",
       "      <td>134.0</td>\n",
       "      <td>155.0</td>\n",
       "      <td>509.385</td>\n",
       "      <td>2.0</td>\n",
       "    </tr>\n",
       "    <tr>\n",
       "      <th>2</th>\n",
       "      <td>12348</td>\n",
       "      <td>1.0</td>\n",
       "      <td>70.0</td>\n",
       "      <td>156.0</td>\n",
       "      <td>367.000</td>\n",
       "      <td>1.0</td>\n",
       "    </tr>\n",
       "  </tbody>\n",
       "</table>\n",
       "</div>"
      ],
      "text/plain": [
       "   CustomerID  frequency  recency      T  monetary_value  \\\n",
       "1       12347        2.0    134.0  155.0         509.385   \n",
       "2       12348        1.0     70.0  156.0         367.000   \n",
       "\n",
       "   expected_num_purchases  \n",
       "1                     2.0  \n",
       "2                     1.0  "
      ]
     },
     "execution_count": 34,
     "metadata": {},
     "output_type": "execute_result"
    }
   ],
   "source": [
    "bgf = lifetimes.BetaGeoFitter(penalizer_coef = 100) #100\n",
    "bgf.fit(summary[\"frequency\"], summary[\"recency\"], summary[\"T\"])\n",
    "summary[\"expected_num_purchases\"] = round(bgf.conditional_expected_number_of_purchases_up_to_time(180, summary[\"frequency\"], summary[\"recency\"], summary[\"T\"]))\n",
    "summary.head(2)"
   ]
  },
  {
   "cell_type": "code",
   "execution_count": 35,
   "id": "55b812a7-2cb2-4994-a1ed-2ebe87edfcd8",
   "metadata": {
    "tags": []
   },
   "outputs": [
    {
     "data": {
      "text/html": [
       "<div>\n",
       "<style scoped>\n",
       "    .dataframe tbody tr th:only-of-type {\n",
       "        vertical-align: middle;\n",
       "    }\n",
       "\n",
       "    .dataframe tbody tr th {\n",
       "        vertical-align: top;\n",
       "    }\n",
       "\n",
       "    .dataframe thead th {\n",
       "        text-align: right;\n",
       "    }\n",
       "</style>\n",
       "<table border=\"1\" class=\"dataframe\">\n",
       "  <thead>\n",
       "    <tr style=\"text-align: right;\">\n",
       "      <th></th>\n",
       "      <th>CustomerID</th>\n",
       "      <th>frequency</th>\n",
       "      <th>recency</th>\n",
       "      <th>T</th>\n",
       "      <th>monetary_value</th>\n",
       "      <th>expected_num_purchases</th>\n",
       "      <th>expected_revenue</th>\n",
       "    </tr>\n",
       "  </thead>\n",
       "  <tbody>\n",
       "    <tr>\n",
       "      <th>1</th>\n",
       "      <td>12347</td>\n",
       "      <td>2.0</td>\n",
       "      <td>134.0</td>\n",
       "      <td>155.0</td>\n",
       "      <td>509.385</td>\n",
       "      <td>2.0</td>\n",
       "      <td>688.686068</td>\n",
       "    </tr>\n",
       "    <tr>\n",
       "      <th>2</th>\n",
       "      <td>12348</td>\n",
       "      <td>1.0</td>\n",
       "      <td>70.0</td>\n",
       "      <td>156.0</td>\n",
       "      <td>367.000</td>\n",
       "      <td>1.0</td>\n",
       "      <td>765.382224</td>\n",
       "    </tr>\n",
       "  </tbody>\n",
       "</table>\n",
       "</div>"
      ],
      "text/plain": [
       "   CustomerID  frequency  recency      T  monetary_value  \\\n",
       "1       12347        2.0    134.0  155.0         509.385   \n",
       "2       12348        1.0     70.0  156.0         367.000   \n",
       "\n",
       "   expected_num_purchases  expected_revenue  \n",
       "1                     2.0        688.686068  \n",
       "2                     1.0        765.382224  "
      ]
     },
     "execution_count": 35,
     "metadata": {},
     "output_type": "execute_result"
    }
   ],
   "source": [
    "ggf = lifetimes.GammaGammaFitter(penalizer_coef = 0.05)\n",
    "ggf.fit(summary[\"frequency\"], summary[\"monetary_value\"])\n",
    "summary[\"expected_revenue\"] = ggf.conditional_expected_average_profit(summary[\"frequency\"], summary[\"monetary_value\"])\n",
    "summary.head(2)"
   ]
  },
  {
   "cell_type": "code",
   "execution_count": 36,
   "id": "3fdc8d08-f4c0-4186-afae-e5c321510cf1",
   "metadata": {
    "tags": []
   },
   "outputs": [
    {
     "data": {
      "text/html": [
       "<div>\n",
       "<style scoped>\n",
       "    .dataframe tbody tr th:only-of-type {\n",
       "        vertical-align: middle;\n",
       "    }\n",
       "\n",
       "    .dataframe tbody tr th {\n",
       "        vertical-align: top;\n",
       "    }\n",
       "\n",
       "    .dataframe thead th {\n",
       "        text-align: right;\n",
       "    }\n",
       "</style>\n",
       "<table border=\"1\" class=\"dataframe\">\n",
       "  <thead>\n",
       "    <tr style=\"text-align: right;\">\n",
       "      <th></th>\n",
       "      <th>CustomerID</th>\n",
       "      <th>MonetaryValue_y</th>\n",
       "    </tr>\n",
       "  </thead>\n",
       "  <tbody>\n",
       "    <tr>\n",
       "      <th>0</th>\n",
       "      <td>12347.0</td>\n",
       "      <td>2104.05</td>\n",
       "    </tr>\n",
       "    <tr>\n",
       "      <th>1</th>\n",
       "      <td>12348.0</td>\n",
       "      <td>310.00</td>\n",
       "    </tr>\n",
       "  </tbody>\n",
       "</table>\n",
       "</div>"
      ],
      "text/plain": [
       "   CustomerID  MonetaryValue_y\n",
       "0     12347.0          2104.05\n",
       "1     12348.0           310.00"
      ]
     },
     "execution_count": 36,
     "metadata": {},
     "output_type": "execute_result"
    }
   ],
   "source": [
    "df2_transactions = wr.s3.read_csv(f\"s3://{bucket}/data/transactions/transactions2\")\n",
    "df2_transactions = df2_transactions.groupby(\"CustomerID\", as_index=False)[\"Revenue\"].sum()\n",
    "df2_transactions.columns = [\"CustomerID\", \"MonetaryValue_y\"]\n",
    "df2_transactions.head(2)"
   ]
  },
  {
   "cell_type": "code",
   "execution_count": 37,
   "id": "ac8f2dbc-37f3-4837-bb16-d2a1f35cad0a",
   "metadata": {
    "tags": []
   },
   "outputs": [],
   "source": [
    "summary = pd.merge(summary, df2_transactions[[\"CustomerID\", \"MonetaryValue_y\"]], how=\"inner\", on=\"CustomerID\") "
   ]
  },
  {
   "cell_type": "code",
   "execution_count": 38,
   "id": "a4488092-f58a-4dee-acb0-4d1ba966dd7c",
   "metadata": {
    "tags": []
   },
   "outputs": [],
   "source": [
    "summary[\"pred_MonetaryValue_y1\"] = ggf.customer_lifetime_value(bgf,\n",
    "                                                              summary[\"frequency\"],\n",
    "                                                              summary[\"recency\"],\n",
    "                                                              summary[\"T\"],\n",
    "                                                              summary.monetary_value,\n",
    "                                                              time=6,\n",
    "                                                              freq=\"D\",\n",
    "                                                              discount_rate = 0.01)"
   ]
  },
  {
   "cell_type": "code",
   "execution_count": 39,
   "id": "699c8916-690d-4756-b7c1-c85b5c94e7e2",
   "metadata": {
    "tags": []
   },
   "outputs": [],
   "source": [
    "summary[\"pred_MonetaryValue_y2\"] = summary.expected_num_purchases * summary.expected_revenue\n",
    "summary = summary[[\"CustomerID\", \"frequency\", \"recency\",\"T\",\"monetary_value\", \"pred_MonetaryValue_y1\", \"pred_MonetaryValue_y2\", \"MonetaryValue_y\"]]"
   ]
  },
  {
   "cell_type": "code",
   "execution_count": 42,
   "id": "1d5102e5-10d9-4156-9a82-1d53823cc116",
   "metadata": {
    "tags": []
   },
   "outputs": [
    {
     "name": "stdout",
     "output_type": "stream",
     "text": [
      "R-squared value for the beta-geometric/negative-binomial and gamma-gamma model: 0.47079987397540213\n"
     ]
    }
   ],
   "source": [
    "r2 = r2_score(summary[\"pred_MonetaryValue_y2\"], summary[\"MonetaryValue_y\"])\n",
    "print(f\"R-squared value for the beta-geometric/negative-binomial and gamma-gamma model: {r2}\")"
   ]
  },
  {
   "cell_type": "code",
   "execution_count": 43,
   "id": "a06aae21-2852-4f4c-aac3-5f241e0f8386",
   "metadata": {
    "tags": []
   },
   "outputs": [
    {
     "data": {
      "text/html": [
       "<div>\n",
       "<style scoped>\n",
       "    .dataframe tbody tr th:only-of-type {\n",
       "        vertical-align: middle;\n",
       "    }\n",
       "\n",
       "    .dataframe tbody tr th {\n",
       "        vertical-align: top;\n",
       "    }\n",
       "\n",
       "    .dataframe thead th {\n",
       "        text-align: right;\n",
       "    }\n",
       "</style>\n",
       "<table border=\"1\" class=\"dataframe\">\n",
       "  <thead>\n",
       "    <tr style=\"text-align: right;\">\n",
       "      <th></th>\n",
       "      <th>CustomerID</th>\n",
       "      <th>frequency</th>\n",
       "      <th>recency</th>\n",
       "      <th>T</th>\n",
       "      <th>monetary_value</th>\n",
       "      <th>pred_MonetaryValue_y1</th>\n",
       "      <th>pred_MonetaryValue_y2</th>\n",
       "      <th>MonetaryValue_y</th>\n",
       "    </tr>\n",
       "  </thead>\n",
       "  <tbody>\n",
       "    <tr>\n",
       "      <th>1168</th>\n",
       "      <td>18242</td>\n",
       "      <td>1.0</td>\n",
       "      <td>17.0</td>\n",
       "      <td>51.0</td>\n",
       "      <td>379.820</td>\n",
       "      <td>2382.946174</td>\n",
       "      <td>2376.050471</td>\n",
       "      <td>1538.41</td>\n",
       "    </tr>\n",
       "    <tr>\n",
       "      <th>1169</th>\n",
       "      <td>18245</td>\n",
       "      <td>1.0</td>\n",
       "      <td>101.0</td>\n",
       "      <td>150.0</td>\n",
       "      <td>501.380</td>\n",
       "      <td>1174.678417</td>\n",
       "      <td>1044.567680</td>\n",
       "      <td>1260.77</td>\n",
       "    </tr>\n",
       "    <tr>\n",
       "      <th>1170</th>\n",
       "      <td>18257</td>\n",
       "      <td>3.0</td>\n",
       "      <td>128.0</td>\n",
       "      <td>134.0</td>\n",
       "      <td>202.400</td>\n",
       "      <td>962.232167</td>\n",
       "      <td>981.088046</td>\n",
       "      <td>1402.03</td>\n",
       "    </tr>\n",
       "    <tr>\n",
       "      <th>1171</th>\n",
       "      <td>18272</td>\n",
       "      <td>1.0</td>\n",
       "      <td>21.0</td>\n",
       "      <td>84.0</td>\n",
       "      <td>340.720</td>\n",
       "      <td>1250.970792</td>\n",
       "      <td>1421.566742</td>\n",
       "      <td>2098.04</td>\n",
       "    </tr>\n",
       "    <tr>\n",
       "      <th>1172</th>\n",
       "      <td>18283</td>\n",
       "      <td>6.0</td>\n",
       "      <td>168.0</td>\n",
       "      <td>175.0</td>\n",
       "      <td>122.355</td>\n",
       "      <td>800.332050</td>\n",
       "      <td>805.130142</td>\n",
       "      <td>1252.30</td>\n",
       "    </tr>\n",
       "  </tbody>\n",
       "</table>\n",
       "</div>"
      ],
      "text/plain": [
       "      CustomerID  frequency  recency      T  monetary_value  \\\n",
       "1168       18242        1.0     17.0   51.0         379.820   \n",
       "1169       18245        1.0    101.0  150.0         501.380   \n",
       "1170       18257        3.0    128.0  134.0         202.400   \n",
       "1171       18272        1.0     21.0   84.0         340.720   \n",
       "1172       18283        6.0    168.0  175.0         122.355   \n",
       "\n",
       "      pred_MonetaryValue_y1  pred_MonetaryValue_y2  MonetaryValue_y  \n",
       "1168            2382.946174            2376.050471          1538.41  \n",
       "1169            1174.678417            1044.567680          1260.77  \n",
       "1170             962.232167             981.088046          1402.03  \n",
       "1171            1250.970792            1421.566742          2098.04  \n",
       "1172             800.332050             805.130142          1252.30  "
      ]
     },
     "execution_count": 43,
     "metadata": {},
     "output_type": "execute_result"
    }
   ],
   "source": [
    "summary.tail()"
   ]
  },
  {
   "cell_type": "markdown",
   "id": "48fcff6b-0d0b-4497-b3b1-33f9b1eba63e",
   "metadata": {},
   "source": [
    "## XGBoost"
   ]
  },
  {
   "cell_type": "markdown",
   "id": "fe8f33e0-a6b7-475e-8346-135f573611cd",
   "metadata": {},
   "source": [
    "#### Hyperparameter Optimization"
   ]
  },
  {
   "cell_type": "code",
   "execution_count": 44,
   "id": "164a25bf-095a-4d19-b514-5d31c1c6991b",
   "metadata": {
    "tags": []
   },
   "outputs": [],
   "source": [
    "XGBoost = xgb.XGBClassifier(n_estimators=150, max_depth=3, learning_rate=0.5, booster=\"gbtree\", gamma=2, min_child_weight=10, subsample=0.9, reg_lambda=2)"
   ]
  },
  {
   "cell_type": "code",
   "execution_count": 63,
   "id": "309df050-f124-4926-a397-84b95a386d19",
   "metadata": {
    "tags": []
   },
   "outputs": [
    {
     "name": "stdout",
     "output_type": "stream",
     "text": [
      "Cross-validated f1-score: 0.7151986174369573\n"
     ]
    }
   ],
   "source": [
    "cross_val_f1_score = np.mean(cross_val_score(estimator = XGBoost, X=x, y=y, cv=5, scoring=\"f1_weighted\"))\n",
    "print(f\"Cross-validated f1-score: {cross_val_f1_score}\")"
   ]
  },
  {
   "cell_type": "code",
   "execution_count": 64,
   "id": "a39629d6-a981-410a-8857-b291c453a873",
   "metadata": {
    "tags": []
   },
   "outputs": [
    {
     "data": {
      "text/html": [
       "<style>#sk-container-id-5 {color: black;}#sk-container-id-5 pre{padding: 0;}#sk-container-id-5 div.sk-toggleable {background-color: white;}#sk-container-id-5 label.sk-toggleable__label {cursor: pointer;display: block;width: 100%;margin-bottom: 0;padding: 0.3em;box-sizing: border-box;text-align: center;}#sk-container-id-5 label.sk-toggleable__label-arrow:before {content: \"▸\";float: left;margin-right: 0.25em;color: #696969;}#sk-container-id-5 label.sk-toggleable__label-arrow:hover:before {color: black;}#sk-container-id-5 div.sk-estimator:hover label.sk-toggleable__label-arrow:before {color: black;}#sk-container-id-5 div.sk-toggleable__content {max-height: 0;max-width: 0;overflow: hidden;text-align: left;background-color: #f0f8ff;}#sk-container-id-5 div.sk-toggleable__content pre {margin: 0.2em;color: black;border-radius: 0.25em;background-color: #f0f8ff;}#sk-container-id-5 input.sk-toggleable__control:checked~div.sk-toggleable__content {max-height: 200px;max-width: 100%;overflow: auto;}#sk-container-id-5 input.sk-toggleable__control:checked~label.sk-toggleable__label-arrow:before {content: \"▾\";}#sk-container-id-5 div.sk-estimator input.sk-toggleable__control:checked~label.sk-toggleable__label {background-color: #d4ebff;}#sk-container-id-5 div.sk-label input.sk-toggleable__control:checked~label.sk-toggleable__label {background-color: #d4ebff;}#sk-container-id-5 input.sk-hidden--visually {border: 0;clip: rect(1px 1px 1px 1px);clip: rect(1px, 1px, 1px, 1px);height: 1px;margin: -1px;overflow: hidden;padding: 0;position: absolute;width: 1px;}#sk-container-id-5 div.sk-estimator {font-family: monospace;background-color: #f0f8ff;border: 1px dotted black;border-radius: 0.25em;box-sizing: border-box;margin-bottom: 0.5em;}#sk-container-id-5 div.sk-estimator:hover {background-color: #d4ebff;}#sk-container-id-5 div.sk-parallel-item::after {content: \"\";width: 100%;border-bottom: 1px solid gray;flex-grow: 1;}#sk-container-id-5 div.sk-label:hover label.sk-toggleable__label {background-color: #d4ebff;}#sk-container-id-5 div.sk-serial::before {content: \"\";position: absolute;border-left: 1px solid gray;box-sizing: border-box;top: 0;bottom: 0;left: 50%;z-index: 0;}#sk-container-id-5 div.sk-serial {display: flex;flex-direction: column;align-items: center;background-color: white;padding-right: 0.2em;padding-left: 0.2em;position: relative;}#sk-container-id-5 div.sk-item {position: relative;z-index: 1;}#sk-container-id-5 div.sk-parallel {display: flex;align-items: stretch;justify-content: center;background-color: white;position: relative;}#sk-container-id-5 div.sk-item::before, #sk-container-id-5 div.sk-parallel-item::before {content: \"\";position: absolute;border-left: 1px solid gray;box-sizing: border-box;top: 0;bottom: 0;left: 50%;z-index: -1;}#sk-container-id-5 div.sk-parallel-item {display: flex;flex-direction: column;z-index: 1;position: relative;background-color: white;}#sk-container-id-5 div.sk-parallel-item:first-child::after {align-self: flex-end;width: 50%;}#sk-container-id-5 div.sk-parallel-item:last-child::after {align-self: flex-start;width: 50%;}#sk-container-id-5 div.sk-parallel-item:only-child::after {width: 0;}#sk-container-id-5 div.sk-dashed-wrapped {border: 1px dashed gray;margin: 0 0.4em 0.5em 0.4em;box-sizing: border-box;padding-bottom: 0.4em;background-color: white;}#sk-container-id-5 div.sk-label label {font-family: monospace;font-weight: bold;display: inline-block;line-height: 1.2em;}#sk-container-id-5 div.sk-label-container {text-align: center;}#sk-container-id-5 div.sk-container {/* jupyter's `normalize.less` sets `[hidden] { display: none; }` but bootstrap.min.css set `[hidden] { display: none !important; }` so we also need the `!important` here to be able to override the default hidden behavior on the sphinx rendered scikit-learn.org. See: https://github.com/scikit-learn/scikit-learn/issues/21755 */display: inline-block !important;position: relative;}#sk-container-id-5 div.sk-text-repr-fallback {display: none;}</style><div id=\"sk-container-id-5\" class=\"sk-top-container\"><div class=\"sk-text-repr-fallback\"><pre>RandomizedSearchCV(cv=5,\n",
       "                   estimator=XGBClassifier(base_score=None, booster=None,\n",
       "                                           callbacks=None,\n",
       "                                           colsample_bylevel=None,\n",
       "                                           colsample_bynode=None,\n",
       "                                           colsample_bytree=None,\n",
       "                                           early_stopping_rounds=None,\n",
       "                                           enable_categorical=False,\n",
       "                                           eval_metric=None, feature_types=None,\n",
       "                                           gamma=None, gpu_id=None,\n",
       "                                           grow_policy=None,\n",
       "                                           importance_type=None,\n",
       "                                           interaction_constraints=None,\n",
       "                                           learning_rate...\n",
       "                                        &#x27;min_child_weight&#x27;: &lt;scipy.stats._distn_infrastructure.rv_discrete_frozen object at 0x7f0d1431aef0&gt;,\n",
       "                                        &#x27;n_estimators&#x27;: &lt;scipy.stats._distn_infrastructure.rv_discrete_frozen object at 0x7f0d14319a80&gt;,\n",
       "                                        &#x27;reg_lambda&#x27;: &lt;scipy.stats._distn_infrastructure.rv_continuous_frozen object at 0x7f0d1431b940&gt;,\n",
       "                                        &#x27;subsample&#x27;: &lt;scipy.stats._distn_infrastructure.rv_continuous_frozen object at 0x7f0d16214640&gt;},\n",
       "                   return_train_score=True, scoring=&#x27;f1_weighted&#x27;)</pre><b>In a Jupyter environment, please rerun this cell to show the HTML representation or trust the notebook. <br />On GitHub, the HTML representation is unable to render, please try loading this page with nbviewer.org.</b></div><div class=\"sk-container\" hidden><div class=\"sk-item sk-dashed-wrapped\"><div class=\"sk-label-container\"><div class=\"sk-label sk-toggleable\"><input class=\"sk-toggleable__control sk-hidden--visually\" id=\"sk-estimator-id-7\" type=\"checkbox\" ><label for=\"sk-estimator-id-7\" class=\"sk-toggleable__label sk-toggleable__label-arrow\">RandomizedSearchCV</label><div class=\"sk-toggleable__content\"><pre>RandomizedSearchCV(cv=5,\n",
       "                   estimator=XGBClassifier(base_score=None, booster=None,\n",
       "                                           callbacks=None,\n",
       "                                           colsample_bylevel=None,\n",
       "                                           colsample_bynode=None,\n",
       "                                           colsample_bytree=None,\n",
       "                                           early_stopping_rounds=None,\n",
       "                                           enable_categorical=False,\n",
       "                                           eval_metric=None, feature_types=None,\n",
       "                                           gamma=None, gpu_id=None,\n",
       "                                           grow_policy=None,\n",
       "                                           importance_type=None,\n",
       "                                           interaction_constraints=None,\n",
       "                                           learning_rate...\n",
       "                                        &#x27;min_child_weight&#x27;: &lt;scipy.stats._distn_infrastructure.rv_discrete_frozen object at 0x7f0d1431aef0&gt;,\n",
       "                                        &#x27;n_estimators&#x27;: &lt;scipy.stats._distn_infrastructure.rv_discrete_frozen object at 0x7f0d14319a80&gt;,\n",
       "                                        &#x27;reg_lambda&#x27;: &lt;scipy.stats._distn_infrastructure.rv_continuous_frozen object at 0x7f0d1431b940&gt;,\n",
       "                                        &#x27;subsample&#x27;: &lt;scipy.stats._distn_infrastructure.rv_continuous_frozen object at 0x7f0d16214640&gt;},\n",
       "                   return_train_score=True, scoring=&#x27;f1_weighted&#x27;)</pre></div></div></div><div class=\"sk-parallel\"><div class=\"sk-parallel-item\"><div class=\"sk-item\"><div class=\"sk-label-container\"><div class=\"sk-label sk-toggleable\"><input class=\"sk-toggleable__control sk-hidden--visually\" id=\"sk-estimator-id-8\" type=\"checkbox\" ><label for=\"sk-estimator-id-8\" class=\"sk-toggleable__label sk-toggleable__label-arrow\">estimator: XGBClassifier</label><div class=\"sk-toggleable__content\"><pre>XGBClassifier(base_score=None, booster=None, callbacks=None,\n",
       "              colsample_bylevel=None, colsample_bynode=None,\n",
       "              colsample_bytree=None, early_stopping_rounds=None,\n",
       "              enable_categorical=False, eval_metric=None, feature_types=None,\n",
       "              gamma=None, gpu_id=None, grow_policy=None, importance_type=None,\n",
       "              interaction_constraints=None, learning_rate=None, max_bin=None,\n",
       "              max_cat_threshold=None, max_cat_to_onehot=None,\n",
       "              max_delta_step=None, max_depth=None, max_leaves=None,\n",
       "              min_child_weight=None, missing=nan, monotone_constraints=None,\n",
       "              n_estimators=100, n_jobs=None, num_parallel_tree=None,\n",
       "              predictor=None, random_state=None, ...)</pre></div></div></div><div class=\"sk-serial\"><div class=\"sk-item\"><div class=\"sk-estimator sk-toggleable\"><input class=\"sk-toggleable__control sk-hidden--visually\" id=\"sk-estimator-id-9\" type=\"checkbox\" ><label for=\"sk-estimator-id-9\" class=\"sk-toggleable__label sk-toggleable__label-arrow\">XGBClassifier</label><div class=\"sk-toggleable__content\"><pre>XGBClassifier(base_score=None, booster=None, callbacks=None,\n",
       "              colsample_bylevel=None, colsample_bynode=None,\n",
       "              colsample_bytree=None, early_stopping_rounds=None,\n",
       "              enable_categorical=False, eval_metric=None, feature_types=None,\n",
       "              gamma=None, gpu_id=None, grow_policy=None, importance_type=None,\n",
       "              interaction_constraints=None, learning_rate=None, max_bin=None,\n",
       "              max_cat_threshold=None, max_cat_to_onehot=None,\n",
       "              max_delta_step=None, max_depth=None, max_leaves=None,\n",
       "              min_child_weight=None, missing=nan, monotone_constraints=None,\n",
       "              n_estimators=100, n_jobs=None, num_parallel_tree=None,\n",
       "              predictor=None, random_state=None, ...)</pre></div></div></div></div></div></div></div></div></div></div>"
      ],
      "text/plain": [
       "RandomizedSearchCV(cv=5,\n",
       "                   estimator=XGBClassifier(base_score=None, booster=None,\n",
       "                                           callbacks=None,\n",
       "                                           colsample_bylevel=None,\n",
       "                                           colsample_bynode=None,\n",
       "                                           colsample_bytree=None,\n",
       "                                           early_stopping_rounds=None,\n",
       "                                           enable_categorical=False,\n",
       "                                           eval_metric=None, feature_types=None,\n",
       "                                           gamma=None, gpu_id=None,\n",
       "                                           grow_policy=None,\n",
       "                                           importance_type=None,\n",
       "                                           interaction_constraints=None,\n",
       "                                           learning_rate...\n",
       "                                        'min_child_weight': <scipy.stats._distn_infrastructure.rv_discrete_frozen object at 0x7f0d1431aef0>,\n",
       "                                        'n_estimators': <scipy.stats._distn_infrastructure.rv_discrete_frozen object at 0x7f0d14319a80>,\n",
       "                                        'reg_lambda': <scipy.stats._distn_infrastructure.rv_continuous_frozen object at 0x7f0d1431b940>,\n",
       "                                        'subsample': <scipy.stats._distn_infrastructure.rv_continuous_frozen object at 0x7f0d16214640>},\n",
       "                   return_train_score=True, scoring='f1_weighted')"
      ]
     },
     "execution_count": 64,
     "metadata": {},
     "output_type": "execute_result"
    }
   ],
   "source": [
    "XGBoost = xgb.XGBClassifier()\n",
    "\n",
    "params = {'n_estimators': randint(100,300),\n",
    "          'max_depth': randint(3,20),\n",
    "          'learning_rate': uniform(0.5,0.1),\n",
    "          'booster': [\"gbtree\"],\n",
    "          'gamma': norm(7,5),\n",
    "          'min_child_weight': randint(65,75),\n",
    "          'subsample': norm(0.9,0.1),\n",
    "          'reg_lambda': uniform(1,10)\n",
    "         }\n",
    "search = RandomizedSearchCV(estimator=XGBoost, cv=5, param_distributions=params, scoring=\"f1_weighted\", return_train_score=True)\n",
    "search.fit(x,y)"
   ]
  },
  {
   "cell_type": "code",
   "execution_count": 74,
   "id": "30974901-8589-4cb7-9c0b-7c480a179e9e",
   "metadata": {
    "tags": []
   },
   "outputs": [
    {
     "name": "stdout",
     "output_type": "stream",
     "text": [
      "Cross-validated f1-score: 0.7836356595080511\n"
     ]
    }
   ],
   "source": [
    "XGBoost = search.best_estimator_\n",
    "cross_val_f1_score = np.mean(cross_val_score(estimator = XGBoost, X=x, y=y, cv=5, scoring=\"f1_weighted\"))\n",
    "print(f\"Cross-validated f1-score: {cross_val_f1_score}\")"
   ]
  },
  {
   "cell_type": "code",
   "execution_count": 75,
   "id": "f300ca8d-a131-415b-875b-34fb43f4b553",
   "metadata": {
    "tags": []
   },
   "outputs": [
    {
     "data": {
      "image/png": "[encoded data removed]",
      "text/plain": [
       "<Figure size 500x500 with 1 Axes>"
      ]
     },
     "metadata": {},
     "output_type": "display_data"
    }
   ],
   "source": [
    "XGBoost.fit(train_x,train_y)\n",
    "predictions = XGBoost.predict(test_x)\n",
    "conf_matrix = confusion_matrix(test_y, predictions)\n",
    "display = ConfusionMatrixDisplay(confusion_matrix=conf_matrix, display_labels=[\"Low CLV\", \"High CLV\"])\n",
    "\n",
    "fig, axs = plt.subplots(1, 1, figsize=(5,5))\n",
    "display.plot(cmap=plt.cm.Blues, ax=axs, colorbar=False)\n",
    "axs.set_title(\"Confusion Matrix\")\n",
    "plt.show()"
   ]
  },
  {
   "cell_type": "code",
   "execution_count": 76,
   "id": "417c283a-e4e2-42a2-b54e-05483c04c072",
   "metadata": {
    "tags": []
   },
   "outputs": [
    {
     "name": "stdout",
     "output_type": "stream",
     "text": [
      "Best Hyperparameters: {'booster': 'gbtree', 'gamma': 9.669145052945993, 'learning_rate': 0.5443110103336728, 'max_depth': 6, 'min_child_weight': 68, 'n_estimators': 222, 'reg_lambda': 5.797983352075241, 'subsample': 0.9204482063140474}\n"
     ]
    }
   ],
   "source": [
    "best_hyperparameters = search.best_params_\n",
    "print(\"Best Hyperparameters:\", best_hyperparameters)"
   ]
  },
  {
   "cell_type": "markdown",
   "id": "a2f64270-b411-464e-bb5f-ee1f5a637462",
   "metadata": {},
   "source": [
    "#### Model Training"
   ]
  },
  {
   "cell_type": "code",
   "execution_count": 13,
   "id": "0c5a9f92-0167-4d89-8dee-dc0e419480e4",
   "metadata": {
    "tags": []
   },
   "outputs": [],
   "source": [
    "from sagemaker import image_uris"
   ]
  },
  {
   "cell_type": "code",
   "execution_count": 14,
   "id": "0749d118-73d1-455c-9bc1-22ad923c811a",
   "metadata": {
    "tags": []
   },
   "outputs": [],
   "source": [
    "container = image_uris.retrieve(\"xgboost\", region=region, version='latest')"
   ]
  },
  {
   "cell_type": "code",
   "execution_count": 118,
   "id": "d4c4519b-8e38-401e-b84d-581ac18f6bd5",
   "metadata": {
    "tags": []
   },
   "outputs": [],
   "source": [
    "XGBoost = sagemaker.estimator.Estimator(container,\n",
    "                                        role,\n",
    "                                        instance_count = 1,\n",
    "                                        instance_type = 'ml.m5.xlarge',\n",
    "                                        output_path = output_location,\n",
    "                                        sagemaker_session = sess\n",
    "                                       )\n",
    "XGBoost.set_hyperparameters(predictor_type =\"binary:logistic\",\n",
    "                            num_round = 222,\n",
    "                            booster = \"gbtree\",\n",
    "                            eta = 0.5443110103336728,\n",
    "                            gamma = 9.669145052945993,\n",
    "                            reg_lambda = 5.797983352075241,\n",
    "                            max_depth = 6,\n",
    "                            min_child_weight = 68,\n",
    "                            subsample = 0.9204482063140474\n",
    "                           )"
   ]
  },
  {
   "cell_type": "code",
   "execution_count": null,
   "id": "c6d7aac0-32e0-4431-bc3c-bd09fce92e57",
   "metadata": {
    "tags": []
   },
   "outputs": [],
   "source": [
    "XGBoost.fit({'train': train_data})"
   ]
  },
  {
   "cell_type": "markdown",
   "id": "50910377-0b36-4dbc-a088-61795a3eee46",
   "metadata": {},
   "source": [
    "#### Model Deployment"
   ]
  },
  {
   "cell_type": "code",
   "execution_count": 121,
   "id": "5ddabf04-5ce8-47a4-8c63-5cdd3094c55d",
   "metadata": {
    "tags": []
   },
   "outputs": [
    {
     "name": "stdout",
     "output_type": "stream",
     "text": [
      "----!"
     ]
    }
   ],
   "source": [
    "CLV_Predictor = XGBoost.deploy(initial_instance_count=1,\n",
    "                               instance_type = 'ml.m5.xlarge')"
   ]
  },
  {
   "cell_type": "code",
   "execution_count": 122,
   "id": "34e17d41-02b8-4713-8228-5fc041ed1e1d",
   "metadata": {
    "tags": []
   },
   "outputs": [
    {
     "name": "stdout",
     "output_type": "stream",
     "text": [
      "Endpoint name: xgboost-2023-09-13-17-23-35-703\n"
     ]
    }
   ],
   "source": [
    "print(f\"Endpoint name: {CLV_Predictor.endpoint_name}\")"
   ]
  },
  {
   "cell_type": "markdown",
   "id": "f1e93c73-31a3-4b9f-89ee-1c8065a58462",
   "metadata": {},
   "source": [
    "#### Model Testing"
   ]
  },
  {
   "cell_type": "code",
   "execution_count": 144,
   "id": "193583db-d712-4a94-bdff-9becf2085972",
   "metadata": {
    "tags": []
   },
   "outputs": [],
   "source": [
    "from sagemaker.serializers import CSVSerializer\n",
    "CLV_Predictor.serializer = CSVSerializer()"
   ]
  },
  {
   "cell_type": "code",
   "execution_count": 145,
   "id": "81ebfdb7-e330-4dad-ab06-8ea692ca6dd2",
   "metadata": {
    "tags": []
   },
   "outputs": [],
   "source": [
    "payload = df_test.iloc[:,1:].to_csv(header=False, index=False)\n",
    "response = CLV_Predictor.predict(payload)"
   ]
  },
  {
   "cell_type": "code",
   "execution_count": 146,
   "id": "026bdb37-4a2e-446c-bfbb-ce237ab9cac4",
   "metadata": {
    "tags": []
   },
   "outputs": [],
   "source": [
    "prob_predictions = response.decode('utf-8').split(\",\")\n",
    "predictions = [1 if float(pred)>0.5 else 0 for pred in prob_predictions]"
   ]
  },
  {
   "cell_type": "code",
   "execution_count": 147,
   "id": "5241d305-d35f-40b7-a890-132d040add65",
   "metadata": {
    "tags": []
   },
   "outputs": [
    {
     "data": {
      "text/plain": [
       "0.8162393162393162"
      ]
     },
     "execution_count": 147,
     "metadata": {},
     "output_type": "execute_result"
    }
   ],
   "source": [
    "import sklearn\n",
    "sklearn.metrics.accuracy_score(predictions, df_test[0])"
   ]
  },
  {
   "cell_type": "code",
   "execution_count": 148,
   "id": "6fcbbf43-3289-4bf7-a190-38595ec4674b",
   "metadata": {
    "tags": []
   },
   "outputs": [],
   "source": [
    "CLV_Predictor.delete_endpoint()"
   ]
  }
 ],
 "metadata": {
  "colab": {
   "include_colab_link": true,
   "provenance": []
  },
  "kernelspec": {
   "display_name": "conda_python3",
   "language": "python",
   "name": "conda_python3"
  },
  "language_info": {
   "codemirror_mode": {
    "name": "ipython",
    "version": 3
   },
   "file_extension": ".py",
   "mimetype": "text/x-python",
   "name": "python",
   "nbconvert_exporter": "python",
   "pygments_lexer": "ipython3",
   "version": "3.10.12"
  }
 },
 "nbformat": 4,
 "nbformat_minor": 5
}
