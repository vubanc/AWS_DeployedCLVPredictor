{
 "cells": [
  {
   "cell_type": "markdown",
   "id": "5dbab301-dfe7-4888-a7e2-f98a9dc25d04",
   "metadata": {},
   "source": [
    "# Data Querying"
   ]
  },
  {
   "cell_type": "code",
   "execution_count": null,
   "id": "e5c71548-9c5b-4b24-a849-50b4f3317942",
   "metadata": {},
   "outputs": [],
   "source": []
  },
  {
   "cell_type": "markdown",
   "id": "c488c23a-ed4b-4dc1-89dd-68918d5b2073",
   "metadata": {},
   "source": [
    "## Importing libraries and initiating sagemaker session"
   ]
  },
  {
   "cell_type": "code",
   "execution_count": 6,
   "id": "c0bd2c7b-b752-446e-9e93-529904ea925e",
   "metadata": {
    "tags": []
   },
   "outputs": [],
   "source": [
    "#!pip install awswrangler"
   ]
  },
  {
   "cell_type": "code",
   "execution_count": 2,
   "id": "088d96a3-6b70-411b-8ad1-362eeec4bfc4",
   "metadata": {
    "tags": []
   },
   "outputs": [],
   "source": [
    "import warnings\n",
    "warnings.filterwarnings(\"ignore\")"
   ]
  },
  {
   "cell_type": "code",
   "execution_count": 3,
   "id": "facc61b9-8f33-4f38-8892-560180e0b78b",
   "metadata": {
    "tags": []
   },
   "outputs": [],
   "source": [
    "import sagemaker\n",
    "import boto3\n",
    "import botocore\n",
    "import awswrangler as wr\n",
    "\n",
    "config = botocore.config.Config()\n",
    "sm = boto3.client(service_name=\"sagemaker\", config=config)\n",
    "sess = sagemaker.Session(sagemaker_client=sm)\n",
    "\n",
    "bucket = sess.default_bucket()\n",
    "role = sagemaker.get_execution_role()\n",
    "region = sess.boto_region_name"
   ]
  },
  {
   "cell_type": "code",
   "execution_count": 7,
   "id": "37f9e6a3-a4bf-4b30-891e-5a986790c447",
   "metadata": {
    "tags": []
   },
   "outputs": [],
   "source": [
    "wr.catalog.create_database(\n",
    "    name='UK Online Retail Store Database',\n",
    "    exist_ok=True\n",
    ")"
   ]
  },
  {
   "cell_type": "code",
   "execution_count": 8,
   "id": "0a6142d8-9d92-4aa0-9567-409c77ba48ea",
   "metadata": {
    "tags": []
   },
   "outputs": [],
   "source": [
    "wr.catalog.create_csv_table(database = \"UK Online Retail Store Database\",\n",
    "                           path = f\"s3://{bucket}/data/input/\",\n",
    "                           table = \"df_input\",\n",
    "                           columns_types = {\"CustomerID\": \"float\",\n",
    "                                            \"Country\": \"string\",\n",
    "                                            \"Recency\": \"int\",\n",
    "                                            \"Frequency\": \"int\",\n",
    "                                            \"DailySpending\": \"float\",\n",
    "                                            \"DailyTransCOunt\":\"float\",\n",
    "                                            \"MonetaryValue_x\": \"float\",\n",
    "                                            \"MonetaryValue_y\": \"float\"},\n",
    "                           mode = \"overwrite\",\n",
    "                           skip_header_line_count = 1,\n",
    "                           sep = \",\")"
   ]
  },
  {
   "cell_type": "code",
   "execution_count": 9,
   "id": "88f07377-d8bc-40e8-8155-23b0e551a040",
   "metadata": {
    "tags": []
   },
   "outputs": [
    {
     "data": {
      "text/html": [
       "<b>Review <a target=\"top\" href=\"https://console.aws.amazon.com/glue/home?region=us-east-2#\">AWS Glue Catalog</a></b>"
      ],
      "text/plain": [
       "<IPython.core.display.HTML object>"
      ]
     },
     "metadata": {},
     "output_type": "display_data"
    }
   ],
   "source": [
    "from IPython.core.display import display, HTML\n",
    "\n",
    "display(HTML('<b>Review <a target=\"top\" href=\"https://console.aws.amazon.com/glue/home?region={}#\">AWS Glue Catalog</a></b>'.format(region)))"
   ]
  },
  {
   "cell_type": "code",
   "execution_count": 10,
   "id": "161bbf3e-c931-43e3-acef-c5ea01d77b68",
   "metadata": {
    "tags": []
   },
   "outputs": [
    {
     "data": {
      "text/plain": [
       "'s3://aws-athena-query-results-397738742408-us-east-2/'"
      ]
     },
     "execution_count": 10,
     "metadata": {},
     "output_type": "execute_result"
    }
   ],
   "source": [
    "wr.athena.create_athena_bucket()"
   ]
  },
  {
   "cell_type": "markdown",
   "id": "a0034c41-e84b-468d-b7ab-5941fe07b89c",
   "metadata": {},
   "source": [
    "#### Reviewing the data"
   ]
  },
  {
   "cell_type": "code",
   "execution_count": 13,
   "id": "f0800b05-1a5c-48e7-af2f-3b63f5019c75",
   "metadata": {
    "tags": []
   },
   "outputs": [
    {
     "data": {
      "text/html": [
       "<div>\n",
       "<style scoped>\n",
       "    .dataframe tbody tr th:only-of-type {\n",
       "        vertical-align: middle;\n",
       "    }\n",
       "\n",
       "    .dataframe tbody tr th {\n",
       "        vertical-align: top;\n",
       "    }\n",
       "\n",
       "    .dataframe thead th {\n",
       "        text-align: right;\n",
       "    }\n",
       "</style>\n",
       "<table border=\"1\" class=\"dataframe\">\n",
       "  <thead>\n",
       "    <tr style=\"text-align: right;\">\n",
       "      <th></th>\n",
       "      <th>customerid</th>\n",
       "      <th>country</th>\n",
       "      <th>recency</th>\n",
       "      <th>frequency</th>\n",
       "      <th>dailyspending</th>\n",
       "      <th>dailytranscount</th>\n",
       "      <th>monetaryvalue_x</th>\n",
       "      <th>monetaryvalue_y</th>\n",
       "    </tr>\n",
       "  </thead>\n",
       "  <tbody>\n",
       "    <tr>\n",
       "      <th>0</th>\n",
       "      <td>13313.0</td>\n",
       "      <td>United Kingdom</td>\n",
       "      <td>53</td>\n",
       "      <td>31</td>\n",
       "      <td>304.869995</td>\n",
       "      <td>16.0</td>\n",
       "      <td>609.739990</td>\n",
       "      <td>945.580017</td>\n",
       "    </tr>\n",
       "    <tr>\n",
       "      <th>1</th>\n",
       "      <td>18097.0</td>\n",
       "      <td>United Kingdom</td>\n",
       "      <td>43</td>\n",
       "      <td>49</td>\n",
       "      <td>637.020020</td>\n",
       "      <td>24.0</td>\n",
       "      <td>1274.040039</td>\n",
       "      <td>1241.239990</td>\n",
       "    </tr>\n",
       "    <tr>\n",
       "      <th>2</th>\n",
       "      <td>16656.0</td>\n",
       "      <td>United Kingdom</td>\n",
       "      <td>30</td>\n",
       "      <td>27</td>\n",
       "      <td>625.744019</td>\n",
       "      <td>5.0</td>\n",
       "      <td>3128.719971</td>\n",
       "      <td>2729.825928</td>\n",
       "    </tr>\n",
       "    <tr>\n",
       "      <th>3</th>\n",
       "      <td>16875.0</td>\n",
       "      <td>United Kingdom</td>\n",
       "      <td>134</td>\n",
       "      <td>46</td>\n",
       "      <td>402.545013</td>\n",
       "      <td>23.0</td>\n",
       "      <td>805.090027</td>\n",
       "      <td>1290.439941</td>\n",
       "    </tr>\n",
       "    <tr>\n",
       "      <th>4</th>\n",
       "      <td>13094.0</td>\n",
       "      <td>United Kingdom</td>\n",
       "      <td>29</td>\n",
       "      <td>12</td>\n",
       "      <td>124.199997</td>\n",
       "      <td>2.0</td>\n",
       "      <td>869.400024</td>\n",
       "      <td>834.239990</td>\n",
       "    </tr>\n",
       "    <tr>\n",
       "      <th>...</th>\n",
       "      <td>...</td>\n",
       "      <td>...</td>\n",
       "      <td>...</td>\n",
       "      <td>...</td>\n",
       "      <td>...</td>\n",
       "      <td>...</td>\n",
       "      <td>...</td>\n",
       "      <td>...</td>\n",
       "    </tr>\n",
       "    <tr>\n",
       "      <th>1866</th>\n",
       "      <td>13238.0</td>\n",
       "      <td>United Kingdom</td>\n",
       "      <td>1</td>\n",
       "      <td>11</td>\n",
       "      <td>227.699997</td>\n",
       "      <td>11.0</td>\n",
       "      <td>227.699997</td>\n",
       "      <td>381.880005</td>\n",
       "    </tr>\n",
       "    <tr>\n",
       "      <th>1867</th>\n",
       "      <td>15208.0</td>\n",
       "      <td>United Kingdom</td>\n",
       "      <td>1</td>\n",
       "      <td>13</td>\n",
       "      <td>258.119995</td>\n",
       "      <td>13.0</td>\n",
       "      <td>258.119995</td>\n",
       "      <td>546.599976</td>\n",
       "    </tr>\n",
       "    <tr>\n",
       "      <th>1868</th>\n",
       "      <td>17837.0</td>\n",
       "      <td>United Kingdom</td>\n",
       "      <td>1</td>\n",
       "      <td>12</td>\n",
       "      <td>119.800003</td>\n",
       "      <td>12.0</td>\n",
       "      <td>119.800003</td>\n",
       "      <td>1473.579956</td>\n",
       "    </tr>\n",
       "    <tr>\n",
       "      <th>1869</th>\n",
       "      <td>15584.0</td>\n",
       "      <td>United Kingdom</td>\n",
       "      <td>0</td>\n",
       "      <td>36</td>\n",
       "      <td>154.649994</td>\n",
       "      <td>36.0</td>\n",
       "      <td>154.649994</td>\n",
       "      <td>570.460022</td>\n",
       "    </tr>\n",
       "    <tr>\n",
       "      <th>1870</th>\n",
       "      <td>16498.0</td>\n",
       "      <td>United Kingdom</td>\n",
       "      <td>0</td>\n",
       "      <td>14</td>\n",
       "      <td>91.220001</td>\n",
       "      <td>14.0</td>\n",
       "      <td>91.220001</td>\n",
       "      <td>370.528015</td>\n",
       "    </tr>\n",
       "  </tbody>\n",
       "</table>\n",
       "<p>1871 rows × 8 columns</p>\n",
       "</div>"
      ],
      "text/plain": [
       "      customerid         country  recency  frequency  dailyspending  \\\n",
       "0        13313.0  United Kingdom       53         31     304.869995   \n",
       "1        18097.0  United Kingdom       43         49     637.020020   \n",
       "2        16656.0  United Kingdom       30         27     625.744019   \n",
       "3        16875.0  United Kingdom      134         46     402.545013   \n",
       "4        13094.0  United Kingdom       29         12     124.199997   \n",
       "...          ...             ...      ...        ...            ...   \n",
       "1866     13238.0  United Kingdom        1         11     227.699997   \n",
       "1867     15208.0  United Kingdom        1         13     258.119995   \n",
       "1868     17837.0  United Kingdom        1         12     119.800003   \n",
       "1869     15584.0  United Kingdom        0         36     154.649994   \n",
       "1870     16498.0  United Kingdom        0         14      91.220001   \n",
       "\n",
       "      dailytranscount  monetaryvalue_x  monetaryvalue_y  \n",
       "0                16.0       609.739990       945.580017  \n",
       "1                24.0      1274.040039      1241.239990  \n",
       "2                 5.0      3128.719971      2729.825928  \n",
       "3                23.0       805.090027      1290.439941  \n",
       "4                 2.0       869.400024       834.239990  \n",
       "...               ...              ...              ...  \n",
       "1866             11.0       227.699997       381.880005  \n",
       "1867             13.0       258.119995       546.599976  \n",
       "1868             12.0       119.800003      1473.579956  \n",
       "1869             36.0       154.649994       570.460022  \n",
       "1870             14.0        91.220001       370.528015  \n",
       "\n",
       "[1871 rows x 8 columns]"
      ]
     },
     "execution_count": 13,
     "metadata": {},
     "output_type": "execute_result"
    }
   ],
   "source": [
    "sql_statment = \"\"\"\n",
    "SELECT *\n",
    "FROM df_input\n",
    "\"\"\"\n",
    "\n",
    "wr.athena.read_sql_query(sql=sql_statment, database = \"UK Online Retail Store Database\")"
   ]
  },
  {
   "cell_type": "code",
   "execution_count": null,
   "id": "fe6e8ebe-77ba-4966-a8c9-cd8b3cc75877",
   "metadata": {},
   "outputs": [],
   "source": []
  }
 ],
 "metadata": {
  "kernelspec": {
   "display_name": "conda_python3",
   "language": "python",
   "name": "conda_python3"
  },
  "language_info": {
   "codemirror_mode": {
    "name": "ipython",
    "version": 3
   },
   "file_extension": ".py",
   "mimetype": "text/x-python",
   "name": "python",
   "nbconvert_exporter": "python",
   "pygments_lexer": "ipython3",
   "version": "3.10.12"
  }
 },
 "nbformat": 4,
 "nbformat_minor": 5
}
