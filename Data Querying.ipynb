{
 "cells": [
  {
   "cell_type": "markdown",
   "id": "5dbab301-dfe7-4888-a7e2-f98a9dc25d04",
   "metadata": {},
   "source": [
    "# Data Querying"
   ]
  },
  {
   "cell_type": "code",
   "execution_count": null,
   "id": "e5c71548-9c5b-4b24-a849-50b4f3317942",
   "metadata": {},
   "outputs": [],
   "source": []
  },
  {
   "cell_type": "markdown",
   "id": "c488c23a-ed4b-4dc1-89dd-68918d5b2073",
   "metadata": {},
   "source": [
    "## Importing libraries and initiating sagemaker session"
   ]
  },
  {
   "cell_type": "code",
   "execution_count": 2,
   "id": "c0bd2c7b-b752-446e-9e93-529904ea925e",
   "metadata": {
    "tags": []
   },
   "outputs": [],
   "source": [
    "#!pip install awswrangler"
   ]
  },
  {
   "cell_type": "code",
   "execution_count": 7,
   "id": "088d96a3-6b70-411b-8ad1-362eeec4bfc4",
   "metadata": {
    "tags": []
   },
   "outputs": [],
   "source": [
    "import warnings\n",
    "warnings.filterwarnings(\"ignore\")"
   ]
  },
  {
   "cell_type": "code",
   "execution_count": 3,
   "id": "facc61b9-8f33-4f38-8892-560180e0b78b",
   "metadata": {
    "tags": []
   },
   "outputs": [],
   "source": [
    "import sagemaker\n",
    "import boto3\n",
    "import botocore\n",
    "import awswrangler as wr\n",
    "\n",
    "config = botocore.config.Config()\n",
    "sm = boto3.client(service_name=\"sagemaker\", config=config)\n",
    "sess = sagemaker.Session(sagemaker_client=sm)\n",
    "\n",
    "bucket = sess.default_bucket()\n",
    "role = sagemaker.get_execution_role()\n",
    "region = sess.boto_region_name"
   ]
  },
  {
   "cell_type": "code",
   "execution_count": 25,
   "id": "37f9e6a3-a4bf-4b30-891e-5a986790c447",
   "metadata": {
    "tags": []
   },
   "outputs": [],
   "source": [
    "wr.catalog.create_database(\n",
    "    name='UK Online Retail Store Database',\n",
    "    exist_ok=True\n",
    ")"
   ]
  },
  {
   "cell_type": "code",
   "execution_count": 26,
   "id": "0a6142d8-9d92-4aa0-9567-409c77ba48ea",
   "metadata": {
    "tags": []
   },
   "outputs": [],
   "source": [
    "wr.catalog.create_csv_table(database = \"UK Online Retail Store Database\",\n",
    "                           path = f\"s3://{bucket}/data/input/\",\n",
    "                           table = \"df_input\",\n",
    "                           columns_types = {\"CustomerID\": \"float\",\n",
    "                                            \"Country\": \"string\",\n",
    "                                            \"Recency\": \"int\",\n",
    "                                            \"Frequency\": \"int\",\n",
    "                                            \"MonetaryValue_x\": \"float\",\n",
    "                                            \"MonetaryValue_y\": \"float\"},\n",
    "                           mode = \"overwrite\",\n",
    "                           skip_header_line_count = 1,\n",
    "                           sep = \",\")"
   ]
  },
  {
   "cell_type": "code",
   "execution_count": 27,
   "id": "88f07377-d8bc-40e8-8155-23b0e551a040",
   "metadata": {
    "tags": []
   },
   "outputs": [
    {
     "data": {
      "text/html": [
       "<b>Review <a target=\"top\" href=\"https://console.aws.amazon.com/glue/home?region=us-east-2#\">AWS Glue Catalog</a></b>"
      ],
      "text/plain": [
       "<IPython.core.display.HTML object>"
      ]
     },
     "metadata": {},
     "output_type": "display_data"
    }
   ],
   "source": [
    "from IPython.core.display import display, HTML\n",
    "\n",
    "display(HTML('<b>Review <a target=\"top\" href=\"https://console.aws.amazon.com/glue/home?region={}#\">AWS Glue Catalog</a></b>'.format(region)))"
   ]
  },
  {
   "cell_type": "code",
   "execution_count": 28,
   "id": "161bbf3e-c931-43e3-acef-c5ea01d77b68",
   "metadata": {
    "tags": []
   },
   "outputs": [
    {
     "data": {
      "text/plain": [
       "'s3://aws-athena-query-results-397738742408-us-east-2/'"
      ]
     },
     "execution_count": 28,
     "metadata": {},
     "output_type": "execute_result"
    }
   ],
   "source": [
    "wr.athena.create_athena_bucket()"
   ]
  },
  {
   "cell_type": "markdown",
   "id": "a0034c41-e84b-468d-b7ab-5941fe07b89c",
   "metadata": {},
   "source": [
    "#### Checking if the data was loaded correctly"
   ]
  },
  {
   "cell_type": "code",
   "execution_count": 34,
   "id": "f0800b05-1a5c-48e7-af2f-3b63f5019c75",
   "metadata": {
    "tags": []
   },
   "outputs": [
    {
     "data": {
      "text/html": [
       "<div>\n",
       "<style scoped>\n",
       "    .dataframe tbody tr th:only-of-type {\n",
       "        vertical-align: middle;\n",
       "    }\n",
       "\n",
       "    .dataframe tbody tr th {\n",
       "        vertical-align: top;\n",
       "    }\n",
       "\n",
       "    .dataframe thead th {\n",
       "        text-align: right;\n",
       "    }\n",
       "</style>\n",
       "<table border=\"1\" class=\"dataframe\">\n",
       "  <thead>\n",
       "    <tr style=\"text-align: right;\">\n",
       "      <th></th>\n",
       "      <th>customerid</th>\n",
       "      <th>country</th>\n",
       "      <th>recency</th>\n",
       "      <th>frequency</th>\n",
       "      <th>monetaryvalue_x</th>\n",
       "      <th>monetaryvalue_y</th>\n",
       "    </tr>\n",
       "  </thead>\n",
       "  <tbody>\n",
       "    <tr>\n",
       "      <th>0</th>\n",
       "      <td>12347.0</td>\n",
       "      <td>Iceland</td>\n",
       "      <td>21</td>\n",
       "      <td>71</td>\n",
       "      <td>1494.160034</td>\n",
       "      <td>2104.050049</td>\n",
       "    </tr>\n",
       "    <tr>\n",
       "      <th>1</th>\n",
       "      <td>12348.0</td>\n",
       "      <td>Finland</td>\n",
       "      <td>86</td>\n",
       "      <td>11</td>\n",
       "      <td>594.440002</td>\n",
       "      <td>310.000000</td>\n",
       "    </tr>\n",
       "    <tr>\n",
       "      <th>2</th>\n",
       "      <td>12352.0</td>\n",
       "      <td>Norway</td>\n",
       "      <td>100</td>\n",
       "      <td>38</td>\n",
       "      <td>1561.810059</td>\n",
       "      <td>944.229980</td>\n",
       "    </tr>\n",
       "    <tr>\n",
       "      <th>3</th>\n",
       "      <td>12356.0</td>\n",
       "      <td>Portugal</td>\n",
       "      <td>83</td>\n",
       "      <td>57</td>\n",
       "      <td>2753.080078</td>\n",
       "      <td>2628.805908</td>\n",
       "    </tr>\n",
       "    <tr>\n",
       "      <th>4</th>\n",
       "      <td>12359.0</td>\n",
       "      <td>Cyprus</td>\n",
       "      <td>27</td>\n",
       "      <td>143</td>\n",
       "      <td>1531.557983</td>\n",
       "      <td>2876.850098</td>\n",
       "    </tr>\n",
       "    <tr>\n",
       "      <th>...</th>\n",
       "      <td>...</td>\n",
       "      <td>...</td>\n",
       "      <td>...</td>\n",
       "      <td>...</td>\n",
       "      <td>...</td>\n",
       "      <td>...</td>\n",
       "    </tr>\n",
       "    <tr>\n",
       "      <th>1866</th>\n",
       "      <td>18270.0</td>\n",
       "      <td>United Kingdom</td>\n",
       "      <td>104</td>\n",
       "      <td>5</td>\n",
       "      <td>111.949997</td>\n",
       "      <td>171.199997</td>\n",
       "    </tr>\n",
       "    <tr>\n",
       "      <th>1867</th>\n",
       "      <td>18272.0</td>\n",
       "      <td>United Kingdom</td>\n",
       "      <td>63</td>\n",
       "      <td>55</td>\n",
       "      <td>980.539978</td>\n",
       "      <td>2098.040039</td>\n",
       "    </tr>\n",
       "    <tr>\n",
       "      <th>1868</th>\n",
       "      <td>18273.0</td>\n",
       "      <td>United Kingdom</td>\n",
       "      <td>95</td>\n",
       "      <td>1</td>\n",
       "      <td>51.000000</td>\n",
       "      <td>153.000000</td>\n",
       "    </tr>\n",
       "    <tr>\n",
       "      <th>1869</th>\n",
       "      <td>18283.0</td>\n",
       "      <td>United Kingdom</td>\n",
       "      <td>7</td>\n",
       "      <td>51</td>\n",
       "      <td>842.580017</td>\n",
       "      <td>1252.300049</td>\n",
       "    </tr>\n",
       "    <tr>\n",
       "      <th>1870</th>\n",
       "      <td>18287.0</td>\n",
       "      <td>United Kingdom</td>\n",
       "      <td>39</td>\n",
       "      <td>29</td>\n",
       "      <td>765.280029</td>\n",
       "      <td>1072.000000</td>\n",
       "    </tr>\n",
       "  </tbody>\n",
       "</table>\n",
       "<p>1871 rows × 6 columns</p>\n",
       "</div>"
      ],
      "text/plain": [
       "      customerid         country  recency  frequency  monetaryvalue_x   \n",
       "0        12347.0         Iceland       21         71      1494.160034  \\\n",
       "1        12348.0         Finland       86         11       594.440002   \n",
       "2        12352.0          Norway      100         38      1561.810059   \n",
       "3        12356.0        Portugal       83         57      2753.080078   \n",
       "4        12359.0          Cyprus       27        143      1531.557983   \n",
       "...          ...             ...      ...        ...              ...   \n",
       "1866     18270.0  United Kingdom      104          5       111.949997   \n",
       "1867     18272.0  United Kingdom       63         55       980.539978   \n",
       "1868     18273.0  United Kingdom       95          1        51.000000   \n",
       "1869     18283.0  United Kingdom        7         51       842.580017   \n",
       "1870     18287.0  United Kingdom       39         29       765.280029   \n",
       "\n",
       "      monetaryvalue_y  \n",
       "0         2104.050049  \n",
       "1          310.000000  \n",
       "2          944.229980  \n",
       "3         2628.805908  \n",
       "4         2876.850098  \n",
       "...               ...  \n",
       "1866       171.199997  \n",
       "1867      2098.040039  \n",
       "1868       153.000000  \n",
       "1869      1252.300049  \n",
       "1870      1072.000000  \n",
       "\n",
       "[1871 rows x 6 columns]"
      ]
     },
     "execution_count": 34,
     "metadata": {},
     "output_type": "execute_result"
    }
   ],
   "source": [
    "sql_statment = \"\"\"\n",
    "SELECT *\n",
    "FROM df_input\n",
    "\"\"\"\n",
    "\n",
    "wr.athena.read_sql_query(sql=sql_statment, database = \"UK Online Retail Store Database\")"
   ]
  },
  {
   "cell_type": "code",
   "execution_count": null,
   "id": "fe6e8ebe-77ba-4966-a8c9-cd8b3cc75877",
   "metadata": {},
   "outputs": [],
   "source": []
  }
 ],
 "metadata": {
  "kernelspec": {
   "display_name": "conda_python3",
   "language": "python",
   "name": "conda_python3"
  },
  "language_info": {
   "codemirror_mode": {
    "name": "ipython",
    "version": 3
   },
   "file_extension": ".py",
   "mimetype": "text/x-python",
   "name": "python",
   "nbconvert_exporter": "python",
   "pygments_lexer": "ipython3",
   "version": "3.10.10"
  }
 },
 "nbformat": 4,
 "nbformat_minor": 5
}
