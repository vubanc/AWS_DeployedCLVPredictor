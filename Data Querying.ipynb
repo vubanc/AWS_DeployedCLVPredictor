{
 "cells": [
  {
   "cell_type": "markdown",
   "id": "5dbab301-dfe7-4888-a7e2-f98a9dc25d04",
   "metadata": {},
   "source": [
    "# Data Querying"
   ]
  },
  {
   "cell_type": "markdown",
   "id": "bc6a6c39-62d2-4a43-8693-3fc75619cde8",
   "metadata": {},
   "source": [
    "The notebook runs some basic and advanced SQL queries to perform some bivariate analyses to understand customer spending behavior before training and evaluating prediction models. Amazon Athena was used to read SQL queries. "
   ]
  },
  {
   "cell_type": "markdown",
   "id": "c488c23a-ed4b-4dc1-89dd-68918d5b2073",
   "metadata": {},
   "source": [
    "## Importing libraries and initiating sagemaker session"
   ]
  },
  {
   "cell_type": "code",
   "execution_count": 2,
   "id": "c0bd2c7b-b752-446e-9e93-529904ea925e",
   "metadata": {
    "tags": []
   },
   "outputs": [],
   "source": [
    "#!pip install awswrangler"
   ]
  },
  {
   "cell_type": "code",
   "execution_count": 3,
   "id": "088d96a3-6b70-411b-8ad1-362eeec4bfc4",
   "metadata": {
    "tags": []
   },
   "outputs": [],
   "source": [
    "import warnings\n",
    "warnings.filterwarnings(\"ignore\")"
   ]
  },
  {
   "cell_type": "code",
   "execution_count": 4,
   "id": "facc61b9-8f33-4f38-8892-560180e0b78b",
   "metadata": {
    "tags": []
   },
   "outputs": [],
   "source": [
    "import sagemaker\n",
    "import boto3\n",
    "import botocore\n",
    "import awswrangler as wr\n",
    "\n",
    "config = botocore.config.Config()\n",
    "sm = boto3.client(service_name=\"sagemaker\", config=config)\n",
    "sess = sagemaker.Session(sagemaker_client=sm)\n",
    "\n",
    "bucket = sess.default_bucket()\n",
    "role = sagemaker.get_execution_role()\n",
    "region = sess.boto_region_name"
   ]
  },
  {
   "cell_type": "code",
   "execution_count": 26,
   "id": "37f9e6a3-a4bf-4b30-891e-5a986790c447",
   "metadata": {
    "tags": []
   },
   "outputs": [],
   "source": [
    "wr.catalog.create_database(\n",
    "    name='UK Online Retail Store Database',\n",
    "    exist_ok=True\n",
    ")\n"
   ]
  },
  {
   "cell_type": "code",
   "execution_count": null,
   "id": "7e75a9ee-d021-458f-bfc7-db21d91fbaba",
   "metadata": {},
   "outputs": [],
   "source": []
  },
  {
   "cell_type": "code",
   "execution_count": 6,
   "id": "0a6142d8-9d92-4aa0-9567-409c77ba48ea",
   "metadata": {
    "tags": []
   },
   "outputs": [],
   "source": [
    "wr.catalog.create_csv_table(database = \"UK Online Retail Store Database\",\n",
    "                           path = f\"s3://{bucket}/data/input/\",\n",
    "                           table = \"df_input\",\n",
    "                           columns_types = {\"CustomerID\": \"float\",\n",
    "                                            \"Country\": \"string\",\n",
    "                                            \"Recency\": \"int\",\n",
    "                                            \"Frequency\": \"int\",\n",
    "                                            \"DailySpending\": \"float\",\n",
    "                                            \"DailyTransCount\":\"float\",\n",
    "                                            \"MonetaryValue_x\": \"float\",\n",
    "                                            \"MonetaryValue_y\": \"float\"},\n",
    "                           mode = \"overwrite\",\n",
    "                           skip_header_line_count = 1,\n",
    "                           sep = \",\")"
   ]
  },
  {
   "cell_type": "code",
   "execution_count": 7,
   "id": "88f07377-d8bc-40e8-8155-23b0e551a040",
   "metadata": {
    "tags": []
   },
   "outputs": [
    {
     "data": {
      "text/html": [
       "<b>Review <a target=\"top\" href=\"https://console.aws.amazon.com/glue/home?region=us-east-2#\">AWS Glue Catalog</a></b>"
      ],
      "text/plain": [
       "<IPython.core.display.HTML object>"
      ]
     },
     "metadata": {},
     "output_type": "display_data"
    }
   ],
   "source": [
    "from IPython.core.display import display, HTML\n",
    "\n",
    "display(HTML('<b>Review <a target=\"top\" href=\"https://console.aws.amazon.com/glue/home?region={}#\">AWS Glue Catalog</a></b>'.format(region)))"
   ]
  },
  {
   "cell_type": "code",
   "execution_count": 10,
   "id": "161bbf3e-c931-43e3-acef-c5ea01d77b68",
   "metadata": {
    "tags": []
   },
   "outputs": [
    {
     "data": {
      "text/plain": [
       "'s3://aws-athena-query-results-397738742408-us-east-2/'"
      ]
     },
     "execution_count": 10,
     "metadata": {},
     "output_type": "execute_result"
    }
   ],
   "source": [
    "wr.athena.create_athena_bucket()"
   ]
  },
  {
   "cell_type": "markdown",
   "id": "c9298f41-d973-42fc-a916-32a2e054aed5",
   "metadata": {},
   "source": [
    "## SQL Queries"
   ]
  },
  {
   "cell_type": "markdown",
   "id": "a0034c41-e84b-468d-b7ab-5941fe07b89c",
   "metadata": {},
   "source": [
    "#### Reviewing the data"
   ]
  },
  {
   "cell_type": "code",
   "execution_count": 27,
   "id": "f0800b05-1a5c-48e7-af2f-3b63f5019c75",
   "metadata": {
    "tags": []
   },
   "outputs": [
    {
     "data": {
      "text/html": [
       "<div>\n",
       "<style scoped>\n",
       "    .dataframe tbody tr th:only-of-type {\n",
       "        vertical-align: middle;\n",
       "    }\n",
       "\n",
       "    .dataframe tbody tr th {\n",
       "        vertical-align: top;\n",
       "    }\n",
       "\n",
       "    .dataframe thead th {\n",
       "        text-align: right;\n",
       "    }\n",
       "</style>\n",
       "<table border=\"1\" class=\"dataframe\">\n",
       "  <thead>\n",
       "    <tr style=\"text-align: right;\">\n",
       "      <th></th>\n",
       "      <th>customerid</th>\n",
       "      <th>country</th>\n",
       "      <th>recency</th>\n",
       "      <th>frequency</th>\n",
       "      <th>dailyspending</th>\n",
       "      <th>dailytranscount</th>\n",
       "      <th>monetaryvalue_x</th>\n",
       "      <th>monetaryvalue_y</th>\n",
       "    </tr>\n",
       "  </thead>\n",
       "  <tbody>\n",
       "    <tr>\n",
       "      <th>0</th>\n",
       "      <td>13313.0</td>\n",
       "      <td>United Kingdom</td>\n",
       "      <td>53</td>\n",
       "      <td>31</td>\n",
       "      <td>304.869995</td>\n",
       "      <td>16.0</td>\n",
       "      <td>609.739990</td>\n",
       "      <td>945.580017</td>\n",
       "    </tr>\n",
       "    <tr>\n",
       "      <th>1</th>\n",
       "      <td>18097.0</td>\n",
       "      <td>United Kingdom</td>\n",
       "      <td>43</td>\n",
       "      <td>49</td>\n",
       "      <td>637.020020</td>\n",
       "      <td>24.0</td>\n",
       "      <td>1274.040039</td>\n",
       "      <td>1241.239990</td>\n",
       "    </tr>\n",
       "    <tr>\n",
       "      <th>2</th>\n",
       "      <td>16656.0</td>\n",
       "      <td>United Kingdom</td>\n",
       "      <td>30</td>\n",
       "      <td>27</td>\n",
       "      <td>625.744019</td>\n",
       "      <td>5.0</td>\n",
       "      <td>3128.719971</td>\n",
       "      <td>2729.825928</td>\n",
       "    </tr>\n",
       "    <tr>\n",
       "      <th>3</th>\n",
       "      <td>16875.0</td>\n",
       "      <td>United Kingdom</td>\n",
       "      <td>134</td>\n",
       "      <td>46</td>\n",
       "      <td>402.545013</td>\n",
       "      <td>23.0</td>\n",
       "      <td>805.090027</td>\n",
       "      <td>1290.439941</td>\n",
       "    </tr>\n",
       "    <tr>\n",
       "      <th>4</th>\n",
       "      <td>13094.0</td>\n",
       "      <td>United Kingdom</td>\n",
       "      <td>29</td>\n",
       "      <td>12</td>\n",
       "      <td>124.199997</td>\n",
       "      <td>2.0</td>\n",
       "      <td>869.400024</td>\n",
       "      <td>834.239990</td>\n",
       "    </tr>\n",
       "  </tbody>\n",
       "</table>\n",
       "</div>"
      ],
      "text/plain": [
       "   customerid         country  recency  frequency  dailyspending  \\\n",
       "0     13313.0  United Kingdom       53         31     304.869995   \n",
       "1     18097.0  United Kingdom       43         49     637.020020   \n",
       "2     16656.0  United Kingdom       30         27     625.744019   \n",
       "3     16875.0  United Kingdom      134         46     402.545013   \n",
       "4     13094.0  United Kingdom       29         12     124.199997   \n",
       "\n",
       "   dailytranscount  monetaryvalue_x  monetaryvalue_y  \n",
       "0             16.0       609.739990       945.580017  \n",
       "1             24.0      1274.040039      1241.239990  \n",
       "2              5.0      3128.719971      2729.825928  \n",
       "3             23.0       805.090027      1290.439941  \n",
       "4              2.0       869.400024       834.239990  "
      ]
     },
     "execution_count": 27,
     "metadata": {},
     "output_type": "execute_result"
    }
   ],
   "source": [
    "sql_statment = \"\"\"\n",
    "SELECT *\n",
    "FROM df_input\n",
    "\"\"\"\n",
    "\n",
    "df = wr.athena.read_sql_query(sql=sql_statment, database = \"UK Online Retail Store Database\")\n",
    "df.head()"
   ]
  },
  {
   "cell_type": "markdown",
   "id": "6cbdf378-6ab9-4b43-b94e-5090ea2f3bc2",
   "metadata": {},
   "source": [
    "#### What are the top 5 countries in terms of average monetary value for the first 6 months?"
   ]
  },
  {
   "cell_type": "code",
   "execution_count": 28,
   "id": "1eef2cc5-00d5-4ee0-9f55-cf534c3547f7",
   "metadata": {
    "tags": []
   },
   "outputs": [
    {
     "data": {
      "text/html": [
       "<div>\n",
       "<style scoped>\n",
       "    .dataframe tbody tr th:only-of-type {\n",
       "        vertical-align: middle;\n",
       "    }\n",
       "\n",
       "    .dataframe tbody tr th {\n",
       "        vertical-align: top;\n",
       "    }\n",
       "\n",
       "    .dataframe thead th {\n",
       "        text-align: right;\n",
       "    }\n",
       "</style>\n",
       "<table border=\"1\" class=\"dataframe\">\n",
       "  <thead>\n",
       "    <tr style=\"text-align: right;\">\n",
       "      <th></th>\n",
       "      <th>country</th>\n",
       "      <th>avg_monetary_value</th>\n",
       "    </tr>\n",
       "  </thead>\n",
       "  <tbody>\n",
       "    <tr>\n",
       "      <th>0</th>\n",
       "      <td>Singapore</td>\n",
       "      <td>2427.295898</td>\n",
       "    </tr>\n",
       "    <tr>\n",
       "      <th>1</th>\n",
       "      <td>Norway</td>\n",
       "      <td>1665.692017</td>\n",
       "    </tr>\n",
       "    <tr>\n",
       "      <th>2</th>\n",
       "      <td>Portugal</td>\n",
       "      <td>1638.692261</td>\n",
       "    </tr>\n",
       "    <tr>\n",
       "      <th>3</th>\n",
       "      <td>EIRE</td>\n",
       "      <td>1634.269287</td>\n",
       "    </tr>\n",
       "    <tr>\n",
       "      <th>4</th>\n",
       "      <td>Japan</td>\n",
       "      <td>1504.767090</td>\n",
       "    </tr>\n",
       "  </tbody>\n",
       "</table>\n",
       "</div>"
      ],
      "text/plain": [
       "     country  avg_monetary_value\n",
       "0  Singapore         2427.295898\n",
       "1     Norway         1665.692017\n",
       "2   Portugal         1638.692261\n",
       "3       EIRE         1634.269287\n",
       "4      Japan         1504.767090"
      ]
     },
     "execution_count": 28,
     "metadata": {},
     "output_type": "execute_result"
    }
   ],
   "source": [
    "sql_statement = \"\"\"\n",
    "SELECT country, AVG(monetaryvalue_x) AS avg_monetary_value\n",
    "FROM df_input\n",
    "GROUP BY country\n",
    "ORDER BY avg_monetary_value DESC\n",
    "LIMIT 5\n",
    "\"\"\"\n",
    "\n",
    "wr.athena.read_sql_query(sql=sql_statement, database = \"UK Online Retail Store Database\")"
   ]
  },
  {
   "cell_type": "markdown",
   "id": "012950fe-990d-4a03-9c9e-924cebe4caaf",
   "metadata": {
    "tags": []
   },
   "source": [
    "#### What are the average monetary values of the most recent (95th percentile) & least recent(5th percentile) customers?"
   ]
  },
  {
   "cell_type": "code",
   "execution_count": 34,
   "id": "8fa70a66-c449-473e-a20b-bf0a09d7609b",
   "metadata": {
    "tags": []
   },
   "outputs": [
    {
     "data": {
      "text/html": [
       "<div>\n",
       "<style scoped>\n",
       "    .dataframe tbody tr th:only-of-type {\n",
       "        vertical-align: middle;\n",
       "    }\n",
       "\n",
       "    .dataframe tbody tr th {\n",
       "        vertical-align: top;\n",
       "    }\n",
       "\n",
       "    .dataframe thead th {\n",
       "        text-align: right;\n",
       "    }\n",
       "</style>\n",
       "<table border=\"1\" class=\"dataframe\">\n",
       "  <thead>\n",
       "    <tr style=\"text-align: right;\">\n",
       "      <th></th>\n",
       "      <th>customer_group</th>\n",
       "      <th>avg_monetary_value_1</th>\n",
       "      <th>avg_monetary_value_2</th>\n",
       "    </tr>\n",
       "  </thead>\n",
       "  <tbody>\n",
       "    <tr>\n",
       "      <th>0</th>\n",
       "      <td>Least Recent</td>\n",
       "      <td>430.465729</td>\n",
       "      <td>717.267395</td>\n",
       "    </tr>\n",
       "    <tr>\n",
       "      <th>1</th>\n",
       "      <td>Most Recent</td>\n",
       "      <td>1242.645630</td>\n",
       "      <td>1399.087769</td>\n",
       "    </tr>\n",
       "  </tbody>\n",
       "</table>\n",
       "</div>"
      ],
      "text/plain": [
       "  customer_group  avg_monetary_value_1  avg_monetary_value_2\n",
       "0   Least Recent            430.465729            717.267395\n",
       "1    Most Recent           1242.645630           1399.087769"
      ]
     },
     "execution_count": 34,
     "metadata": {},
     "output_type": "execute_result"
    }
   ],
   "source": [
    "sql_statement = \"\"\"\n",
    "WITH CTE1 AS (\n",
    "    SELECT customerid, recency, monetaryvalue_x, monetaryvalue_y, NTILE(20) OVER(ORDER BY recency ASC) AS pct\n",
    "    FROM df_input\n",
    "    ),\n",
    "CTE2 AS (\n",
    "    SELECT 'Most Recent' AS customer_group, AVG(monetaryvalue_x) AS avg_monetary_value_1, AVG(monetaryvalue_y) AS avg_monetary_value_2\n",
    "    FROM CTE1\n",
    "    WHERE pct<=1\n",
    "    ),\n",
    "CTE3 AS (\n",
    "    SELECT 'Least Recent' AS customer_group, AVG(monetaryvalue_x) AS avg_monetary_value_1, AVG(monetaryvalue_y) AS avg_monetary_value_2\n",
    "    FROM CTE1\n",
    "    WHERE pct>=19\n",
    "    )\n",
    "SELECT *\n",
    "FROM CTE2\n",
    "UNION ALL\n",
    "SELECT *\n",
    "FROM CTE3\n",
    "\"\"\"\n",
    "\n",
    "wr.athena.read_sql_query(sql=sql_statement, database = \"UK Online Retail Store Database\")"
   ]
  },
  {
   "cell_type": "markdown",
   "id": "63ee0813-ca8a-44fd-a4af-c7192676b22c",
   "metadata": {
    "tags": []
   },
   "source": [
    "#### What are the average monetary values of the most frequent (95th percentile) & least frequent (5th percentile) customers?"
   ]
  },
  {
   "cell_type": "code",
   "execution_count": 35,
   "id": "8f84dc06-5656-4a3d-b2b4-c58f78717ad1",
   "metadata": {
    "tags": []
   },
   "outputs": [
    {
     "data": {
      "text/html": [
       "<div>\n",
       "<style scoped>\n",
       "    .dataframe tbody tr th:only-of-type {\n",
       "        vertical-align: middle;\n",
       "    }\n",
       "\n",
       "    .dataframe tbody tr th {\n",
       "        vertical-align: top;\n",
       "    }\n",
       "\n",
       "    .dataframe thead th {\n",
       "        text-align: right;\n",
       "    }\n",
       "</style>\n",
       "<table border=\"1\" class=\"dataframe\">\n",
       "  <thead>\n",
       "    <tr style=\"text-align: right;\">\n",
       "      <th></th>\n",
       "      <th>customer_group</th>\n",
       "      <th>avg_monetary_value_1</th>\n",
       "      <th>avg_monetary_value_2</th>\n",
       "    </tr>\n",
       "  </thead>\n",
       "  <tbody>\n",
       "    <tr>\n",
       "      <th>0</th>\n",
       "      <td>Least Frequent</td>\n",
       "      <td>308.197357</td>\n",
       "      <td>610.815796</td>\n",
       "    </tr>\n",
       "    <tr>\n",
       "      <th>1</th>\n",
       "      <td>Most Frequent</td>\n",
       "      <td>1775.693359</td>\n",
       "      <td>1761.506104</td>\n",
       "    </tr>\n",
       "  </tbody>\n",
       "</table>\n",
       "</div>"
      ],
      "text/plain": [
       "   customer_group  avg_monetary_value_1  avg_monetary_value_2\n",
       "0  Least Frequent            308.197357            610.815796\n",
       "1   Most Frequent           1775.693359           1761.506104"
      ]
     },
     "execution_count": 35,
     "metadata": {},
     "output_type": "execute_result"
    }
   ],
   "source": [
    "sql_statement = \"\"\"\n",
    "WITH CTE1 AS (\n",
    "    SELECT customerid, frequency, monetaryvalue_x, monetaryvalue_y, NTILE(20) OVER(ORDER BY frequency DESC) AS pct\n",
    "    FROM df_input\n",
    "    ),\n",
    "CTE2 AS (\n",
    "    SELECT 'Most Frequent' AS customer_group, AVG(monetaryvalue_x) AS avg_monetary_value_1, AVG(monetaryvalue_y) AS avg_monetary_value_2\n",
    "    FROM CTE1\n",
    "    WHERE pct<=1\n",
    "    ),\n",
    "CTE3 AS (\n",
    "    SELECT 'Least Frequent' AS customer_group, AVG(monetaryvalue_x) AS avg_monetary_value_1, AVG(monetaryvalue_y) AS avg_monetary_value_2\n",
    "    FROM CTE1\n",
    "    WHERE pct>=19\n",
    "    )\n",
    "SELECT *\n",
    "FROM CTE2\n",
    "UNION ALL\n",
    "SELECT *\n",
    "FROM CTE3\n",
    "\"\"\"\n",
    "\n",
    "wr.athena.read_sql_query(sql=sql_statement, database = \"UK Online Retail Store Database\")"
   ]
  },
  {
   "cell_type": "markdown",
   "id": "56debeff-99d8-44e9-b012-cc95c1560aab",
   "metadata": {
    "tags": []
   },
   "source": [
    "#### What are the average frequency & recency of the most valueable (95th percentile) & least (5th percentile) valueable customers?"
   ]
  },
  {
   "cell_type": "code",
   "execution_count": 40,
   "id": "26981bcf-441a-402d-929c-723237cacd71",
   "metadata": {
    "tags": []
   },
   "outputs": [
    {
     "data": {
      "text/html": [
       "<div>\n",
       "<style scoped>\n",
       "    .dataframe tbody tr th:only-of-type {\n",
       "        vertical-align: middle;\n",
       "    }\n",
       "\n",
       "    .dataframe tbody tr th {\n",
       "        vertical-align: top;\n",
       "    }\n",
       "\n",
       "    .dataframe thead th {\n",
       "        text-align: right;\n",
       "    }\n",
       "</style>\n",
       "<table border=\"1\" class=\"dataframe\">\n",
       "  <thead>\n",
       "    <tr style=\"text-align: right;\">\n",
       "      <th></th>\n",
       "      <th>customer_group</th>\n",
       "      <th>frequency</th>\n",
       "      <th>recency</th>\n",
       "    </tr>\n",
       "  </thead>\n",
       "  <tbody>\n",
       "    <tr>\n",
       "      <th>0</th>\n",
       "      <td>Most Valueable</td>\n",
       "      <td>91.723404</td>\n",
       "      <td>23.468085</td>\n",
       "    </tr>\n",
       "    <tr>\n",
       "      <th>1</th>\n",
       "      <td>Least Valueable</td>\n",
       "      <td>11.720430</td>\n",
       "      <td>61.817204</td>\n",
       "    </tr>\n",
       "  </tbody>\n",
       "</table>\n",
       "</div>"
      ],
      "text/plain": [
       "    customer_group  frequency    recency\n",
       "0   Most Valueable  91.723404  23.468085\n",
       "1  Least Valueable  11.720430  61.817204"
      ]
     },
     "execution_count": 40,
     "metadata": {},
     "output_type": "execute_result"
    }
   ],
   "source": [
    "sql_statement = \"\"\"\n",
    "WITH CTE1 AS (\n",
    "    SELECT customerid, frequency, recency, monetaryvalue_x, NTILE(20) OVER(ORDER BY monetaryvalue_x DESC) AS pct\n",
    "    FROM df_input\n",
    "),\n",
    "CTE2 AS (\n",
    "    SELECT 'Most Valueable' AS customer_group, AVG(frequency) AS frequency, AVG(recency) AS recency\n",
    "    FROM CTE1\n",
    "    WHERE pct<=1\n",
    "    ),\n",
    "CTE3 AS (\n",
    "    SELECT 'Least Valueable' AS customer_group, AVG(frequency) AS frequency, AVG(recency) AS recency\n",
    "    FROM CTE1\n",
    "    WHERE pct>=19\n",
    ")\n",
    "SELECT * \n",
    "FROM CTE2\n",
    "UNION ALL\n",
    "SELECT *\n",
    "FROM CTE3\n",
    "\"\"\"\n",
    "\n",
    "wr.athena.read_sql_query(sql=sql_statement, database = \"UK Online Retail Store Database\")"
   ]
  },
  {
   "cell_type": "markdown",
   "id": "d48a918b-5275-4d7a-8e92-a273dafc6c17",
   "metadata": {
    "tags": []
   },
   "source": [
    "#### What are the average daily spending & transaction counts of the most valueable & least valueable customers?"
   ]
  },
  {
   "cell_type": "code",
   "execution_count": 41,
   "id": "d4ed35d9-fb7d-4655-9ad5-f0c8e79d2328",
   "metadata": {
    "tags": []
   },
   "outputs": [
    {
     "data": {
      "text/html": [
       "<div>\n",
       "<style scoped>\n",
       "    .dataframe tbody tr th:only-of-type {\n",
       "        vertical-align: middle;\n",
       "    }\n",
       "\n",
       "    .dataframe tbody tr th {\n",
       "        vertical-align: top;\n",
       "    }\n",
       "\n",
       "    .dataframe thead th {\n",
       "        text-align: right;\n",
       "    }\n",
       "</style>\n",
       "<table border=\"1\" class=\"dataframe\">\n",
       "  <thead>\n",
       "    <tr style=\"text-align: right;\">\n",
       "      <th></th>\n",
       "      <th>customer_group</th>\n",
       "      <th>dailyspending</th>\n",
       "      <th>dailytranscount</th>\n",
       "    </tr>\n",
       "  </thead>\n",
       "  <tbody>\n",
       "    <tr>\n",
       "      <th>0</th>\n",
       "      <td>Most Valueable</td>\n",
       "      <td>479.856140</td>\n",
       "      <td>21.182980</td>\n",
       "    </tr>\n",
       "    <tr>\n",
       "      <th>1</th>\n",
       "      <td>Least Valueable</td>\n",
       "      <td>117.224457</td>\n",
       "      <td>11.309677</td>\n",
       "    </tr>\n",
       "  </tbody>\n",
       "</table>\n",
       "</div>"
      ],
      "text/plain": [
       "    customer_group  dailyspending  dailytranscount\n",
       "0   Most Valueable     479.856140        21.182980\n",
       "1  Least Valueable     117.224457        11.309677"
      ]
     },
     "execution_count": 41,
     "metadata": {},
     "output_type": "execute_result"
    }
   ],
   "source": [
    "sql_statement = \"\"\"\n",
    "WITH CTE1 AS (\n",
    "    SELECT customerid, dailyspending, dailytranscount, monetaryvalue_x, NTILE(20) OVER(ORDER BY monetaryvalue_x DESC) AS pct\n",
    "    FROM df_input\n",
    "),\n",
    "CTE2 AS (\n",
    "    SELECT 'Most Valueable' AS customer_group, AVG(dailyspending) AS dailyspending, AVG(dailytranscount) AS dailytranscount\n",
    "    FROM CTE1\n",
    "    WHERE pct<=1\n",
    "    ),\n",
    "CTE3 AS (\n",
    "    SELECT 'Least Valueable' AS customer_group, AVG(dailyspending) AS dailyspending, AVG(dailytranscount) AS dailytranscount\n",
    "    FROM CTE1\n",
    "    WHERE pct>=19\n",
    ")\n",
    "SELECT * \n",
    "FROM CTE2\n",
    "UNION ALL\n",
    "SELECT *\n",
    "FROM CTE3\n",
    "\"\"\"\n",
    "\n",
    "wr.athena.read_sql_query(sql=sql_statement, database = \"UK Online Retail Store Database\")"
   ]
  },
  {
   "cell_type": "markdown",
   "id": "da5b76c7-2518-4f63-8f93-fb987fbc50d0",
   "metadata": {
    "tags": []
   },
   "source": [
    "#### What is the average difference in monetary values for the first and last 6 months of 2011?"
   ]
  },
  {
   "cell_type": "code",
   "execution_count": 43,
   "id": "e097223a-b238-4e5d-b5cd-d6f54bf1923d",
   "metadata": {
    "tags": []
   },
   "outputs": [
    {
     "data": {
      "text/html": [
       "<div>\n",
       "<style scoped>\n",
       "    .dataframe tbody tr th:only-of-type {\n",
       "        vertical-align: middle;\n",
       "    }\n",
       "\n",
       "    .dataframe tbody tr th {\n",
       "        vertical-align: top;\n",
       "    }\n",
       "\n",
       "    .dataframe thead th {\n",
       "        text-align: right;\n",
       "    }\n",
       "</style>\n",
       "<table border=\"1\" class=\"dataframe\">\n",
       "  <thead>\n",
       "    <tr style=\"text-align: right;\">\n",
       "      <th></th>\n",
       "      <th>avg_monetary_value_diff</th>\n",
       "    </tr>\n",
       "  </thead>\n",
       "  <tbody>\n",
       "    <tr>\n",
       "      <th>0</th>\n",
       "      <td>512.92218</td>\n",
       "    </tr>\n",
       "  </tbody>\n",
       "</table>\n",
       "</div>"
      ],
      "text/plain": [
       "   avg_monetary_value_diff\n",
       "0                512.92218"
      ]
     },
     "execution_count": 43,
     "metadata": {},
     "output_type": "execute_result"
    }
   ],
   "source": [
    "sql_statement = \"\"\"\n",
    "SELECT AVG(ABS(monetaryvalue_x - monetaryvalue_y)) AS avg_monetary_value_diff\n",
    "FROM df_input\n",
    "\"\"\"\n",
    "\n",
    "wr.athena.read_sql_query(sql=sql_statement, database = \"UK Online Retail Store Database\")"
   ]
  }
 ],
 "metadata": {
  "kernelspec": {
   "display_name": "conda_python3",
   "language": "python",
   "name": "conda_python3"
  },
  "language_info": {
   "codemirror_mode": {
    "name": "ipython",
    "version": 3
   },
   "file_extension": ".py",
   "mimetype": "text/x-python",
   "name": "python",
   "nbconvert_exporter": "python",
   "pygments_lexer": "ipython3",
   "version": "3.10.12"
  }
 },
 "nbformat": 4,
 "nbformat_minor": 5
}
